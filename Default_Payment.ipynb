{
  "cells": [
    {
      "cell_type": "markdown",
      "metadata": {
        "id": "axshXvZgIAZv"
      },
      "source": [
        "Azis Muslim\n",
        "- Bacth 13 FTDS\n",
        "- Milestone 1 Phase 1\n",
        "- Dataset : Credit Card Default"
      ]
    },
    {
      "cell_type": "markdown",
      "metadata": {
        "id": "j3D2yJaLTeDI"
      },
      "source": [
        "# Analisis Model Classifier Machine Learning Dalam Memprediksi Default Payment"
      ]
    },
    {
      "cell_type": "markdown",
      "metadata": {
        "id": "2cVjCS6CThaH"
      },
      "source": [
        "## Latar Belakang Penelitian"
      ]
    },
    {
      "cell_type": "markdown",
      "metadata": {
        "id": "eDnsuFLxTjem"
      },
      "source": [
        "Model prediksi default payment dalam suatu financial institutions memainkan peranan penting terlebih setelah terjadinya krisis subprime mortgage pada tahun 2008. Krisis Subprime mortgage yang terjadi di USA awalnya di awali dengan default nya salah satu investement bank terbesar di USA dan pada akhirnya merambat ke beberapa negara di eropa. Berdasarkan pelajaran yang di ambil dari krisis sebelumnya yang penyebab utamanya adalah credit default maka pada penelitian ini akan memfokuskan untuk melakukan analisa model machine learning dengan model prediksi yang dapat menyesuaikan dengan data-data perbankan terkini."
      ]
    },
    {
      "cell_type": "markdown",
      "metadata": {
        "id": "0bCFdShRToqN"
      },
      "source": [
        "### Library yang digunakan"
      ]
    },
    {
      "cell_type": "code",
      "execution_count": 1,
      "metadata": {
        "id": "bZwTw1cK04ee"
      },
      "outputs": [],
      "source": [
        "import numpy as np\n",
        "import pandas as pd\n",
        "import matplotlib.pyplot as plt\n",
        "import seaborn as sns\n",
        "from sklearn.model_selection import train_test_split\n",
        "from sklearn import preprocessing\n",
        "from sklearn.linear_model import LogisticRegression\n",
        "from sklearn.metrics import accuracy_score,classification_report,ConfusionMatrixDisplay,confusion_matrix\n",
        "from sklearn.metrics import classification_report\n",
        "from sklearn.compose import ColumnTransformer\n",
        "from sklearn.preprocessing import OneHotEncoder\n",
        "from sklearn.neighbors import KNeighborsClassifier\n",
        "from sklearn.metrics import confusion_matrix, accuracy_score, precision_score, recall_score, auc, roc_curve\n",
        "from sklearn.model_selection import KFold, cross_val_score\n",
        "from sklearn.model_selection import GridSearchCV, train_test_split\n",
        "from sklearn.metrics import confusion_matrix\n",
        "from sklearn.pipeline import Pipeline\n",
        "from sklearn.preprocessing import StandardScaler, MinMaxScaler\n",
        "from sklearn.metrics import mean_absolute_error,mean_squared_error,r2_score\n",
        "from sklearn.svm import SVC\n",
        "from sklearn.naive_bayes import GaussianNB\n",
        "from sklearn.tree import DecisionTreeClassifier\n",
        "from sklearn.ensemble import RandomForestClassifier\n",
        "from sklearn.model_selection import GridSearchCV\n",
        "from sklearn.metrics import make_scorer, accuracy_score\n",
        "from sklearn.model_selection import GridSearchCV, RepeatedStratifiedKFold\n",
        "from sklearn.ensemble import BaggingClassifier\n",
        "from sklearn.ensemble import VotingClassifier\n",
        "from sklearn.ensemble import AdaBoostClassifier\n",
        "from sklearn.ensemble import GradientBoostingClassifier\n",
        "from xgboost import XGBClassifier\n",
        "import warnings\n",
        "warnings.filterwarnings('ignore') "
      ]
    },
    {
      "cell_type": "markdown",
      "metadata": {
        "id": "6t6p9U0JTu6N"
      },
      "source": [
        "## Loading Dataset"
      ]
    },
    {
      "cell_type": "code",
      "execution_count": 2,
      "metadata": {
        "colab": {
          "base_uri": "https://localhost:8080/",
          "height": 300
        },
        "id": "2-o1tiHX1DJI",
        "outputId": "a2ecb13a-ae2b-495d-b7f5-88fb3817ebd3"
      },
      "outputs": [
        {
          "data": {
            "text/html": [
              "<div>\n",
              "<style scoped>\n",
              "    .dataframe tbody tr th:only-of-type {\n",
              "        vertical-align: middle;\n",
              "    }\n",
              "\n",
              "    .dataframe tbody tr th {\n",
              "        vertical-align: top;\n",
              "    }\n",
              "\n",
              "    .dataframe thead th {\n",
              "        text-align: right;\n",
              "    }\n",
              "</style>\n",
              "<table border=\"1\" class=\"dataframe\">\n",
              "  <thead>\n",
              "    <tr style=\"text-align: right;\">\n",
              "      <th></th>\n",
              "      <th>limit_balance</th>\n",
              "      <th>sex</th>\n",
              "      <th>education_level</th>\n",
              "      <th>marital_status</th>\n",
              "      <th>age</th>\n",
              "      <th>pay_0</th>\n",
              "      <th>pay_2</th>\n",
              "      <th>pay_3</th>\n",
              "      <th>pay_4</th>\n",
              "      <th>pay_5</th>\n",
              "      <th>...</th>\n",
              "      <th>bill_amt_4</th>\n",
              "      <th>bill_amt_5</th>\n",
              "      <th>bill_amt_6</th>\n",
              "      <th>pay_amt_1</th>\n",
              "      <th>pay_amt_2</th>\n",
              "      <th>pay_amt_3</th>\n",
              "      <th>pay_amt_4</th>\n",
              "      <th>pay_amt_5</th>\n",
              "      <th>pay_amt_6</th>\n",
              "      <th>default_payment_next_month</th>\n",
              "    </tr>\n",
              "  </thead>\n",
              "  <tbody>\n",
              "    <tr>\n",
              "      <th>0</th>\n",
              "      <td>50000.0</td>\n",
              "      <td>1</td>\n",
              "      <td>1</td>\n",
              "      <td>2</td>\n",
              "      <td>39.0</td>\n",
              "      <td>0.0</td>\n",
              "      <td>0.0</td>\n",
              "      <td>0.0</td>\n",
              "      <td>0.0</td>\n",
              "      <td>0</td>\n",
              "      <td>...</td>\n",
              "      <td>50803.0</td>\n",
              "      <td>30789.0</td>\n",
              "      <td>15874.0</td>\n",
              "      <td>1800.0</td>\n",
              "      <td>2000.0</td>\n",
              "      <td>3000.0</td>\n",
              "      <td>2000.0</td>\n",
              "      <td>2000.0</td>\n",
              "      <td>2000.0</td>\n",
              "      <td>0</td>\n",
              "    </tr>\n",
              "    <tr>\n",
              "      <th>1</th>\n",
              "      <td>110000.0</td>\n",
              "      <td>2</td>\n",
              "      <td>1</td>\n",
              "      <td>2</td>\n",
              "      <td>29.0</td>\n",
              "      <td>0.0</td>\n",
              "      <td>0.0</td>\n",
              "      <td>0.0</td>\n",
              "      <td>0.0</td>\n",
              "      <td>0</td>\n",
              "      <td>...</td>\n",
              "      <td>32489.0</td>\n",
              "      <td>26354.0</td>\n",
              "      <td>20221.0</td>\n",
              "      <td>2000.0</td>\n",
              "      <td>2010.0</td>\n",
              "      <td>3000.0</td>\n",
              "      <td>3000.0</td>\n",
              "      <td>3000.0</td>\n",
              "      <td>1000.0</td>\n",
              "      <td>0</td>\n",
              "    </tr>\n",
              "    <tr>\n",
              "      <th>2</th>\n",
              "      <td>270000.0</td>\n",
              "      <td>1</td>\n",
              "      <td>1</td>\n",
              "      <td>2</td>\n",
              "      <td>36.0</td>\n",
              "      <td>0.0</td>\n",
              "      <td>0.0</td>\n",
              "      <td>0.0</td>\n",
              "      <td>2.0</td>\n",
              "      <td>0</td>\n",
              "      <td>...</td>\n",
              "      <td>40335.0</td>\n",
              "      <td>37165.0</td>\n",
              "      <td>22156.0</td>\n",
              "      <td>10076.0</td>\n",
              "      <td>4018.0</td>\n",
              "      <td>14.0</td>\n",
              "      <td>2051.0</td>\n",
              "      <td>2000.0</td>\n",
              "      <td>0.0</td>\n",
              "      <td>0</td>\n",
              "    </tr>\n",
              "    <tr>\n",
              "      <th>3</th>\n",
              "      <td>130000.0</td>\n",
              "      <td>1</td>\n",
              "      <td>1</td>\n",
              "      <td>1</td>\n",
              "      <td>45.0</td>\n",
              "      <td>0.0</td>\n",
              "      <td>0.0</td>\n",
              "      <td>0.0</td>\n",
              "      <td>0.0</td>\n",
              "      <td>0</td>\n",
              "      <td>...</td>\n",
              "      <td>62377.0</td>\n",
              "      <td>63832.0</td>\n",
              "      <td>65099.0</td>\n",
              "      <td>2886.0</td>\n",
              "      <td>2908.0</td>\n",
              "      <td>2129.0</td>\n",
              "      <td>2354.0</td>\n",
              "      <td>2366.0</td>\n",
              "      <td>2291.0</td>\n",
              "      <td>0</td>\n",
              "    </tr>\n",
              "    <tr>\n",
              "      <th>4</th>\n",
              "      <td>50000.0</td>\n",
              "      <td>1</td>\n",
              "      <td>1</td>\n",
              "      <td>2</td>\n",
              "      <td>24.0</td>\n",
              "      <td>0.0</td>\n",
              "      <td>0.0</td>\n",
              "      <td>0.0</td>\n",
              "      <td>0.0</td>\n",
              "      <td>0</td>\n",
              "      <td>...</td>\n",
              "      <td>19837.0</td>\n",
              "      <td>19855.0</td>\n",
              "      <td>20151.0</td>\n",
              "      <td>1367.0</td>\n",
              "      <td>1606.0</td>\n",
              "      <td>692.0</td>\n",
              "      <td>709.0</td>\n",
              "      <td>721.0</td>\n",
              "      <td>692.0</td>\n",
              "      <td>0</td>\n",
              "    </tr>\n",
              "    <tr>\n",
              "      <th>...</th>\n",
              "      <td>...</td>\n",
              "      <td>...</td>\n",
              "      <td>...</td>\n",
              "      <td>...</td>\n",
              "      <td>...</td>\n",
              "      <td>...</td>\n",
              "      <td>...</td>\n",
              "      <td>...</td>\n",
              "      <td>...</td>\n",
              "      <td>...</td>\n",
              "      <td>...</td>\n",
              "      <td>...</td>\n",
              "      <td>...</td>\n",
              "      <td>...</td>\n",
              "      <td>...</td>\n",
              "      <td>...</td>\n",
              "      <td>...</td>\n",
              "      <td>...</td>\n",
              "      <td>...</td>\n",
              "      <td>...</td>\n",
              "      <td>...</td>\n",
              "    </tr>\n",
              "    <tr>\n",
              "      <th>2960</th>\n",
              "      <td>210000.0</td>\n",
              "      <td>2</td>\n",
              "      <td>2</td>\n",
              "      <td>1</td>\n",
              "      <td>39.0</td>\n",
              "      <td>-1.0</td>\n",
              "      <td>-1.0</td>\n",
              "      <td>-1.0</td>\n",
              "      <td>-1.0</td>\n",
              "      <td>-2</td>\n",
              "      <td>...</td>\n",
              "      <td>0.0</td>\n",
              "      <td>0.0</td>\n",
              "      <td>12000.0</td>\n",
              "      <td>0.0</td>\n",
              "      <td>28428.0</td>\n",
              "      <td>0.0</td>\n",
              "      <td>0.0</td>\n",
              "      <td>12000.0</td>\n",
              "      <td>33664.0</td>\n",
              "      <td>0</td>\n",
              "    </tr>\n",
              "    <tr>\n",
              "      <th>2961</th>\n",
              "      <td>280000.0</td>\n",
              "      <td>2</td>\n",
              "      <td>1</td>\n",
              "      <td>1</td>\n",
              "      <td>41.0</td>\n",
              "      <td>2.0</td>\n",
              "      <td>-1.0</td>\n",
              "      <td>-1.0</td>\n",
              "      <td>-1.0</td>\n",
              "      <td>-2</td>\n",
              "      <td>...</td>\n",
              "      <td>0.0</td>\n",
              "      <td>0.0</td>\n",
              "      <td>244.0</td>\n",
              "      <td>6859.0</td>\n",
              "      <td>486.0</td>\n",
              "      <td>0.0</td>\n",
              "      <td>0.0</td>\n",
              "      <td>244.0</td>\n",
              "      <td>0.0</td>\n",
              "      <td>0</td>\n",
              "    </tr>\n",
              "    <tr>\n",
              "      <th>2962</th>\n",
              "      <td>80000.0</td>\n",
              "      <td>1</td>\n",
              "      <td>1</td>\n",
              "      <td>2</td>\n",
              "      <td>28.0</td>\n",
              "      <td>1.0</td>\n",
              "      <td>-1.0</td>\n",
              "      <td>-1.0</td>\n",
              "      <td>-1.0</td>\n",
              "      <td>-2</td>\n",
              "      <td>...</td>\n",
              "      <td>0.0</td>\n",
              "      <td>0.0</td>\n",
              "      <td>0.0</td>\n",
              "      <td>47.0</td>\n",
              "      <td>207.0</td>\n",
              "      <td>0.0</td>\n",
              "      <td>0.0</td>\n",
              "      <td>0.0</td>\n",
              "      <td>0.0</td>\n",
              "      <td>0</td>\n",
              "    </tr>\n",
              "    <tr>\n",
              "      <th>2963</th>\n",
              "      <td>200000.0</td>\n",
              "      <td>1</td>\n",
              "      <td>2</td>\n",
              "      <td>1</td>\n",
              "      <td>53.0</td>\n",
              "      <td>1.0</td>\n",
              "      <td>-1.0</td>\n",
              "      <td>-1.0</td>\n",
              "      <td>-2.0</td>\n",
              "      <td>-2</td>\n",
              "      <td>...</td>\n",
              "      <td>0.0</td>\n",
              "      <td>0.0</td>\n",
              "      <td>6753.0</td>\n",
              "      <td>2920.0</td>\n",
              "      <td>0.0</td>\n",
              "      <td>0.0</td>\n",
              "      <td>0.0</td>\n",
              "      <td>6753.0</td>\n",
              "      <td>0.0</td>\n",
              "      <td>1</td>\n",
              "    </tr>\n",
              "    <tr>\n",
              "      <th>2964</th>\n",
              "      <td>20000.0</td>\n",
              "      <td>2</td>\n",
              "      <td>1</td>\n",
              "      <td>2</td>\n",
              "      <td>24.0</td>\n",
              "      <td>-1.0</td>\n",
              "      <td>-1.0</td>\n",
              "      <td>-2.0</td>\n",
              "      <td>-2.0</td>\n",
              "      <td>-2</td>\n",
              "      <td>...</td>\n",
              "      <td>0.0</td>\n",
              "      <td>0.0</td>\n",
              "      <td>0.0</td>\n",
              "      <td>0.0</td>\n",
              "      <td>0.0</td>\n",
              "      <td>0.0</td>\n",
              "      <td>0.0</td>\n",
              "      <td>0.0</td>\n",
              "      <td>0.0</td>\n",
              "      <td>0</td>\n",
              "    </tr>\n",
              "  </tbody>\n",
              "</table>\n",
              "<p>2965 rows × 24 columns</p>\n",
              "</div>"
            ],
            "text/plain": [
              "      limit_balance  sex  education_level  marital_status   age  pay_0  pay_2  \\\n",
              "0           50000.0    1                1               2  39.0    0.0    0.0   \n",
              "1          110000.0    2                1               2  29.0    0.0    0.0   \n",
              "2          270000.0    1                1               2  36.0    0.0    0.0   \n",
              "3          130000.0    1                1               1  45.0    0.0    0.0   \n",
              "4           50000.0    1                1               2  24.0    0.0    0.0   \n",
              "...             ...  ...              ...             ...   ...    ...    ...   \n",
              "2960       210000.0    2                2               1  39.0   -1.0   -1.0   \n",
              "2961       280000.0    2                1               1  41.0    2.0   -1.0   \n",
              "2962        80000.0    1                1               2  28.0    1.0   -1.0   \n",
              "2963       200000.0    1                2               1  53.0    1.0   -1.0   \n",
              "2964        20000.0    2                1               2  24.0   -1.0   -1.0   \n",
              "\n",
              "      pay_3  pay_4  pay_5  ...  bill_amt_4  bill_amt_5  bill_amt_6  pay_amt_1  \\\n",
              "0       0.0    0.0      0  ...     50803.0     30789.0     15874.0     1800.0   \n",
              "1       0.0    0.0      0  ...     32489.0     26354.0     20221.0     2000.0   \n",
              "2       0.0    2.0      0  ...     40335.0     37165.0     22156.0    10076.0   \n",
              "3       0.0    0.0      0  ...     62377.0     63832.0     65099.0     2886.0   \n",
              "4       0.0    0.0      0  ...     19837.0     19855.0     20151.0     1367.0   \n",
              "...     ...    ...    ...  ...         ...         ...         ...        ...   \n",
              "2960   -1.0   -1.0     -2  ...         0.0         0.0     12000.0        0.0   \n",
              "2961   -1.0   -1.0     -2  ...         0.0         0.0       244.0     6859.0   \n",
              "2962   -1.0   -1.0     -2  ...         0.0         0.0         0.0       47.0   \n",
              "2963   -1.0   -2.0     -2  ...         0.0         0.0      6753.0     2920.0   \n",
              "2964   -2.0   -2.0     -2  ...         0.0         0.0         0.0        0.0   \n",
              "\n",
              "      pay_amt_2  pay_amt_3  pay_amt_4  pay_amt_5  pay_amt_6  \\\n",
              "0        2000.0     3000.0     2000.0     2000.0     2000.0   \n",
              "1        2010.0     3000.0     3000.0     3000.0     1000.0   \n",
              "2        4018.0       14.0     2051.0     2000.0        0.0   \n",
              "3        2908.0     2129.0     2354.0     2366.0     2291.0   \n",
              "4        1606.0      692.0      709.0      721.0      692.0   \n",
              "...         ...        ...        ...        ...        ...   \n",
              "2960    28428.0        0.0        0.0    12000.0    33664.0   \n",
              "2961      486.0        0.0        0.0      244.0        0.0   \n",
              "2962      207.0        0.0        0.0        0.0        0.0   \n",
              "2963        0.0        0.0        0.0     6753.0        0.0   \n",
              "2964        0.0        0.0        0.0        0.0        0.0   \n",
              "\n",
              "      default_payment_next_month  \n",
              "0                              0  \n",
              "1                              0  \n",
              "2                              0  \n",
              "3                              0  \n",
              "4                              0  \n",
              "...                          ...  \n",
              "2960                           0  \n",
              "2961                           0  \n",
              "2962                           0  \n",
              "2963                           1  \n",
              "2964                           0  \n",
              "\n",
              "[2965 rows x 24 columns]"
            ]
          },
          "execution_count": 2,
          "metadata": {},
          "output_type": "execute_result"
        }
      ],
      "source": [
        "df = pd.read_csv('credit_card_default.csv')\n",
        "df"
      ]
    },
    {
      "cell_type": "code",
      "execution_count": 3,
      "metadata": {
        "colab": {
          "base_uri": "https://localhost:8080/",
          "height": 300
        },
        "id": "IH7qqTHNUNCY",
        "outputId": "e4eac792-5ca5-44ba-ae8a-c031b47a87ff"
      },
      "outputs": [
        {
          "data": {
            "text/html": [
              "<div>\n",
              "<style scoped>\n",
              "    .dataframe tbody tr th:only-of-type {\n",
              "        vertical-align: middle;\n",
              "    }\n",
              "\n",
              "    .dataframe tbody tr th {\n",
              "        vertical-align: top;\n",
              "    }\n",
              "\n",
              "    .dataframe thead th {\n",
              "        text-align: right;\n",
              "    }\n",
              "</style>\n",
              "<table border=\"1\" class=\"dataframe\">\n",
              "  <thead>\n",
              "    <tr style=\"text-align: right;\">\n",
              "      <th></th>\n",
              "      <th>limit_balance</th>\n",
              "      <th>sex</th>\n",
              "      <th>education_level</th>\n",
              "      <th>marital_status</th>\n",
              "      <th>age</th>\n",
              "      <th>pay_0</th>\n",
              "      <th>pay_2</th>\n",
              "      <th>pay_3</th>\n",
              "      <th>pay_4</th>\n",
              "      <th>pay_5</th>\n",
              "      <th>...</th>\n",
              "      <th>bill_amt_4</th>\n",
              "      <th>bill_amt_5</th>\n",
              "      <th>bill_amt_6</th>\n",
              "      <th>pay_amt_1</th>\n",
              "      <th>pay_amt_2</th>\n",
              "      <th>pay_amt_3</th>\n",
              "      <th>pay_amt_4</th>\n",
              "      <th>pay_amt_5</th>\n",
              "      <th>pay_amt_6</th>\n",
              "      <th>default_payment_next_month</th>\n",
              "    </tr>\n",
              "  </thead>\n",
              "  <tbody>\n",
              "    <tr>\n",
              "      <th>2960</th>\n",
              "      <td>210000.0</td>\n",
              "      <td>2</td>\n",
              "      <td>2</td>\n",
              "      <td>1</td>\n",
              "      <td>39.0</td>\n",
              "      <td>-1.0</td>\n",
              "      <td>-1.0</td>\n",
              "      <td>-1.0</td>\n",
              "      <td>-1.0</td>\n",
              "      <td>-2</td>\n",
              "      <td>...</td>\n",
              "      <td>0.0</td>\n",
              "      <td>0.0</td>\n",
              "      <td>12000.0</td>\n",
              "      <td>0.0</td>\n",
              "      <td>28428.0</td>\n",
              "      <td>0.0</td>\n",
              "      <td>0.0</td>\n",
              "      <td>12000.0</td>\n",
              "      <td>33664.0</td>\n",
              "      <td>0</td>\n",
              "    </tr>\n",
              "    <tr>\n",
              "      <th>2961</th>\n",
              "      <td>280000.0</td>\n",
              "      <td>2</td>\n",
              "      <td>1</td>\n",
              "      <td>1</td>\n",
              "      <td>41.0</td>\n",
              "      <td>2.0</td>\n",
              "      <td>-1.0</td>\n",
              "      <td>-1.0</td>\n",
              "      <td>-1.0</td>\n",
              "      <td>-2</td>\n",
              "      <td>...</td>\n",
              "      <td>0.0</td>\n",
              "      <td>0.0</td>\n",
              "      <td>244.0</td>\n",
              "      <td>6859.0</td>\n",
              "      <td>486.0</td>\n",
              "      <td>0.0</td>\n",
              "      <td>0.0</td>\n",
              "      <td>244.0</td>\n",
              "      <td>0.0</td>\n",
              "      <td>0</td>\n",
              "    </tr>\n",
              "    <tr>\n",
              "      <th>2962</th>\n",
              "      <td>80000.0</td>\n",
              "      <td>1</td>\n",
              "      <td>1</td>\n",
              "      <td>2</td>\n",
              "      <td>28.0</td>\n",
              "      <td>1.0</td>\n",
              "      <td>-1.0</td>\n",
              "      <td>-1.0</td>\n",
              "      <td>-1.0</td>\n",
              "      <td>-2</td>\n",
              "      <td>...</td>\n",
              "      <td>0.0</td>\n",
              "      <td>0.0</td>\n",
              "      <td>0.0</td>\n",
              "      <td>47.0</td>\n",
              "      <td>207.0</td>\n",
              "      <td>0.0</td>\n",
              "      <td>0.0</td>\n",
              "      <td>0.0</td>\n",
              "      <td>0.0</td>\n",
              "      <td>0</td>\n",
              "    </tr>\n",
              "    <tr>\n",
              "      <th>2963</th>\n",
              "      <td>200000.0</td>\n",
              "      <td>1</td>\n",
              "      <td>2</td>\n",
              "      <td>1</td>\n",
              "      <td>53.0</td>\n",
              "      <td>1.0</td>\n",
              "      <td>-1.0</td>\n",
              "      <td>-1.0</td>\n",
              "      <td>-2.0</td>\n",
              "      <td>-2</td>\n",
              "      <td>...</td>\n",
              "      <td>0.0</td>\n",
              "      <td>0.0</td>\n",
              "      <td>6753.0</td>\n",
              "      <td>2920.0</td>\n",
              "      <td>0.0</td>\n",
              "      <td>0.0</td>\n",
              "      <td>0.0</td>\n",
              "      <td>6753.0</td>\n",
              "      <td>0.0</td>\n",
              "      <td>1</td>\n",
              "    </tr>\n",
              "    <tr>\n",
              "      <th>2964</th>\n",
              "      <td>20000.0</td>\n",
              "      <td>2</td>\n",
              "      <td>1</td>\n",
              "      <td>2</td>\n",
              "      <td>24.0</td>\n",
              "      <td>-1.0</td>\n",
              "      <td>-1.0</td>\n",
              "      <td>-2.0</td>\n",
              "      <td>-2.0</td>\n",
              "      <td>-2</td>\n",
              "      <td>...</td>\n",
              "      <td>0.0</td>\n",
              "      <td>0.0</td>\n",
              "      <td>0.0</td>\n",
              "      <td>0.0</td>\n",
              "      <td>0.0</td>\n",
              "      <td>0.0</td>\n",
              "      <td>0.0</td>\n",
              "      <td>0.0</td>\n",
              "      <td>0.0</td>\n",
              "      <td>0</td>\n",
              "    </tr>\n",
              "  </tbody>\n",
              "</table>\n",
              "<p>5 rows × 24 columns</p>\n",
              "</div>"
            ],
            "text/plain": [
              "      limit_balance  sex  education_level  marital_status   age  pay_0  pay_2  \\\n",
              "2960       210000.0    2                2               1  39.0   -1.0   -1.0   \n",
              "2961       280000.0    2                1               1  41.0    2.0   -1.0   \n",
              "2962        80000.0    1                1               2  28.0    1.0   -1.0   \n",
              "2963       200000.0    1                2               1  53.0    1.0   -1.0   \n",
              "2964        20000.0    2                1               2  24.0   -1.0   -1.0   \n",
              "\n",
              "      pay_3  pay_4  pay_5  ...  bill_amt_4  bill_amt_5  bill_amt_6  pay_amt_1  \\\n",
              "2960   -1.0   -1.0     -2  ...         0.0         0.0     12000.0        0.0   \n",
              "2961   -1.0   -1.0     -2  ...         0.0         0.0       244.0     6859.0   \n",
              "2962   -1.0   -1.0     -2  ...         0.0         0.0         0.0       47.0   \n",
              "2963   -1.0   -2.0     -2  ...         0.0         0.0      6753.0     2920.0   \n",
              "2964   -2.0   -2.0     -2  ...         0.0         0.0         0.0        0.0   \n",
              "\n",
              "      pay_amt_2  pay_amt_3  pay_amt_4  pay_amt_5  pay_amt_6  \\\n",
              "2960    28428.0        0.0        0.0    12000.0    33664.0   \n",
              "2961      486.0        0.0        0.0      244.0        0.0   \n",
              "2962      207.0        0.0        0.0        0.0        0.0   \n",
              "2963        0.0        0.0        0.0     6753.0        0.0   \n",
              "2964        0.0        0.0        0.0        0.0        0.0   \n",
              "\n",
              "      default_payment_next_month  \n",
              "2960                           0  \n",
              "2961                           0  \n",
              "2962                           0  \n",
              "2963                           1  \n",
              "2964                           0  \n",
              "\n",
              "[5 rows x 24 columns]"
            ]
          },
          "execution_count": 3,
          "metadata": {},
          "output_type": "execute_result"
        }
      ],
      "source": [
        "df.tail(5)"
      ]
    },
    {
      "cell_type": "markdown",
      "metadata": {
        "id": "LjlvhsJgURWU"
      },
      "source": [
        "##**Explanatory Data Analysis & Feature Selection**"
      ]
    },
    {
      "cell_type": "code",
      "execution_count": 4,
      "metadata": {
        "colab": {
          "base_uri": "https://localhost:8080/",
          "height": 708
        },
        "id": "TyeXNO02UVBV",
        "outputId": "5a3a389c-697d-4463-92bd-6b5bdabefdbf"
      },
      "outputs": [
        {
          "data": {
            "image/png": "[encoded data removed]",
            "text/plain": [
              "<Figure size 1440x1080 with 2 Axes>"
            ]
          },
          "metadata": {
            "needs_background": "light"
          },
          "output_type": "display_data"
        }
      ],
      "source": [
        "# Heatmap ini berguna untuk melihat korelasi antar fitur yang ada pada dataset credit default\n",
        "corr = df.corr()\n",
        "\n",
        "plt.figure(figsize=(20, 15))\n",
        "sns.heatmap(corr, annot= True, vmin=0, vmax=1)\n",
        "plt.show()"
      ]
    },
    {
      "cell_type": "markdown",
      "metadata": {
        "id": "JmAWyaUOUHR6"
      },
      "source": [
        "Pada penelitian ini variabel dependent yang digunakan adalah default_payment_next_month. Berdasarkan heatmap di atas dapat terlihat fitur-fitur yang memiliki korelasi tertinggi dalam memengaruhi variabel dependent adalah pay_0, Pay_2, pay_3, pay_4, pay_5, pay_6. Sehingga fitur-fitur tersebut akan dijadikan variabel independent pada penelitian ini untuk memprediksi default payment next month.\n",
        "\n",
        "limit_balance adalah credit card limit yang ditetapkan oleh masing-masing bank pemberi kartu kredit atau batas maksimal nilai yang bisa dikeluarkan untuk melakukan transaksi keuangan. Pada heatmap di atas dapat terlihat limit balance memang tidak memiliki kaitan langsung dengan default_payment_next_month. Namun dari sudut pandang lain jika kita melihat bank sebagai lembaga intermediaries hal ini terkait karena semakin tinggi limit kredit yang diberikan oleh bank maka akan semakin tinggi juga jumlah tagihan kartu kreditnya. Jumlah tagihan yang lebih tinggi dapat meningkatkan risiko liquditas yang akan mengganggu bank dalam mengelola liquiditas nya. Menurut Mathew dan Thompson (2008) risiko liquiditas adalah probabilitas suatu bank tidak dapat mememenuhi kewajiban nya untuk memenuhi kewajiban liquiditasnya dikarenakan adanya penarikan deposit secara mendadak.\n",
        "\n",
        "Seperti yang kita ketehui secara tradisional bank mendapatkan profit dari selisih bunga pinjaman dan bunga simpanan \"interest rate margin\". Jika default rate tinggi maka akan meningkatkan risiko bank dalam pengelolaan liquiditas nya. Pada penelitian sebelumnya yang bejudul 'The Fundamental Determinants of Credit Risk for European Large Complex Financial Institutions' oleh Robe, I dan Podpiera, J (2010) mendaptakan temuan bahwa semakin tinggi proporsi dari short term borrowing akan meningkatkan CDS spread nya."
      ]
    },
    {
      "cell_type": "code",
      "execution_count": 5,
      "metadata": {
        "colab": {
          "base_uri": "https://localhost:8080/",
          "height": 248
        },
        "id": "XkYdB4qdSUp6",
        "outputId": "90216c80-9fb2-4374-a25b-36bf55472ef8"
      },
      "outputs": [
        {
          "data": {
            "image/png": "[encoded data removed]",
            "text/plain": [
              "<Figure size 432x288 with 1 Axes>"
            ]
          },
          "metadata": {},
          "output_type": "display_data"
        }
      ],
      "source": [
        "df['limit_balance'].value_counts().head(10).plot.pie()\n",
        "\n",
        "# Unsquish the pie.\n",
        "import matplotlib.pyplot as plt\n",
        "plt.gca().set_aspect('equal')"
      ]
    },
    {
      "cell_type": "markdown",
      "metadata": {
        "id": "6jPKgStPSbw8"
      },
      "source": [
        "Berdasarkan pie chart di atas terlihat limit balance yang proporsi paling besar adalah kelompok yang limit balance nya di angka 50.000"
      ]
    },
    {
      "cell_type": "code",
      "execution_count": 6,
      "metadata": {
        "id": "_OCB4ueKFHdO"
      },
      "outputs": [],
      "source": [
        "# Creating a new dataframe with categorical variables\n",
        "subset = df[['sex', 'education_level', 'marital_status', 'pay_0', 'pay_2', 'pay_3', 'pay_4', \n",
        "               'pay_5', 'pay_6', 'default_payment_next_month']]"
      ]
    },
    {
      "cell_type": "code",
      "execution_count": 7,
      "metadata": {
        "colab": {
          "base_uri": "https://localhost:8080/",
          "height": 1000
        },
        "id": "jnC36UvxS8Qx",
        "outputId": "dca7df1a-f921-4595-9b72-bcf93893fef2"
      },
      "outputs": [
        {
          "data": {
            "image/png": "[encoded data removed]",
            "text/plain": [
              "<Figure size 2160x1800 with 9 Axes>"
            ]
          },
          "metadata": {},
          "output_type": "display_data"
        }
      ],
      "source": [
        "f, axes = plt.subplots(3, 3, figsize=(30, 25), facecolor='#eae2b7')\n",
        "f.suptitle('FREQUENCY OF CATEGORICAL VARIABLES (BY TARGET \"Credit Default\")')\n",
        "ax1 = sns.countplot(x=\"sex\", hue=\"default_payment_next_month\", data=subset, palette=\"Blues\", ax=axes[0,0])\n",
        "ax2 = sns.countplot(x=\"education_level\", hue=\"default_payment_next_month\", data=subset, palette=\"Blues\",ax=axes[0,1])\n",
        "ax3 = sns.countplot(x=\"marital_status\", hue=\"default_payment_next_month\", data=subset, palette=\"Blues\",ax=axes[0,2])\n",
        "ax4 = sns.countplot(x=\"pay_0\", hue=\"default_payment_next_month\", data=subset, palette=\"Blues\", ax=axes[1,0])\n",
        "ax5 = sns.countplot(x=\"pay_2\", hue=\"default_payment_next_month\", data=subset, palette=\"Blues\", ax=axes[1,1])\n",
        "ax6 = sns.countplot(x=\"pay_3\", hue=\"default_payment_next_month\", data=subset, palette=\"Blues\", ax=axes[1,2])\n",
        "ax7 = sns.countplot(x=\"pay_4\", hue=\"default_payment_next_month\", data=subset, palette=\"Blues\", ax=axes[2,0])\n",
        "ax8 = sns.countplot(x=\"pay_5\", hue=\"default_payment_next_month\", data=subset, palette=\"Blues\", ax=axes[2,1])\n",
        "ax9 = sns.countplot(x=\"pay_6\", hue=\"default_payment_next_month\", data=subset, palette=\"Blues\", ax=axes[2,2]);"
      ]
    },
    {
      "cell_type": "markdown",
      "metadata": {
        "id": "CzW_WFu6FdTP"
      },
      "source": [
        "Berdasarkan gambar pada baris pertama dapat terlihat tidak ada perbedaan terlalu jauh untuk kredit default yang terjadi jika dikelompokkan berdasarkan gender sebagai catatan credit default di representasikan oleh barplot berwarna biru tua sedangkan barplot berwarna biru muda merepresentasikan tidak ada kredit default. Selanjutnya bar plot disebelahnya jika credit default di kelompokkan berdsarakan tigkat pendidikan dapat terlihat secara jelas credit defaut tertinggi terjadi pada kelompok pendidikan di angka 2,1, dan 3. Pada barplot marital status kondisinya tidak jauh berbeda dengan barplot sex dimana tidak ada beda terlalu jauh antara orang yang sudah menikah dan belum nikah dan masuk ke kelompok gagal bayar atau credit default. Lebih lanjut untuk barplot pay_0, pay_2, pay_3, pay_4, pay_5, dan pay_6 akan saya gunakan sebagai sebagai variabel independent untuk memprediksi default karena datanya cukup beragam antara kelompok yang default di angka -2, -1, 00, 2, dan 3 dimana angka tersebut di representasikan oleh sumbu X.\n",
        "\n",
        "\n"
      ]
    },
    {
      "cell_type": "code",
      "execution_count": 8,
      "metadata": {
        "colab": {
          "base_uri": "https://localhost:8080/",
          "height": 307
        },
        "id": "VUD25aomYvxR",
        "outputId": "78e7f78a-07f0-45dc-f613-9ca83b3470ad"
      },
      "outputs": [
        {
          "data": {
            "image/png": "[encoded data removed]",
            "text/plain": [
              "<Figure size 864x360 with 1 Axes>"
            ]
          },
          "metadata": {},
          "output_type": "display_data"
        }
      ],
      "source": [
        "x1 = list(df[df['default_payment_next_month'] == 1]['limit_balance'])\n",
        "x2 = list(df[df['default_payment_next_month'] == 0]['limit_balance'])\n",
        "\n",
        "plt.figure(figsize=(12,5), facecolor='#B1A898', edgecolor='#EA8A2E')\n",
        "sns.set_context('paper', font_scale=1.2)\n",
        "#sns.set_color_codes(\"pastel\")\n",
        "plt.hist([x1, x2], bins = 40, color=['#d62728', 'steelblue'])\n",
        "plt.xlim([0,600000])\n",
        "plt.legend(['Yes', 'No'], title = 'Default', loc='upper right', facecolor='#9C755F', fancybox=True)\n",
        "plt.xlabel('Limit Balance (NT dollar)')\n",
        "plt.ylabel('Frequency')\n",
        "plt.title('LIMIT BALANCE HISTOGRAM BY TYPE OF CREDIT CARD', size=15)\n",
        "plt.box(False)"
      ]
    },
    {
      "cell_type": "markdown",
      "metadata": {
        "id": "o4hzTccfMUR5"
      },
      "source": [
        "Pada bar chart di atas dapat menjelaskan bahwa limit balance yang tinggi memang memunculkan risiko liquiditas yang tinggi bagi bank namun untuk kasus ini semakin tinggi limit balance nya default rate nya cenderung menunjukkan trend yang semakin kecil sehingga risiko yang tinggi tersebut tidak perlu dijadikan concern utama pada kasus ini."
      ]
    },
    {
      "cell_type": "markdown",
      "metadata": {},
      "source": [
        "## Tahapan Penelitian"
      ]
    },
    {
      "cell_type": "markdown",
      "metadata": {},
      "source": [
        "Pada penelitian ini model machine learning yang digunakan adalah Logistic Regression, Support Vector Classifier, K-Nearest Neighbor, Gaussian Naive Bias, Model Decision Tree, Bagging Classifier, ADA Boost With Logistic Regression As An Estimator, Gradient Boosting, Random Forest, dan XGBoost Classifier sebagai salah satu model diluar scikit learn library. Setelah itu hasil akurasi setiap model akan dibandingkan begitu juga hasil dari cross validationya baik yang di dasarkan cross validation berdasarkan rata-rata maupun cross validation yang di dasarkan dari nilai standar deviasinya. Akurasi dengan range 0,90-1 dapat dikatakan excellent classification, akurasi dengan range 0,80-0,90 dapat dikatakan good classification, akurasi dengan range 0,70-0,80 dikatakan fair classification, akurasi dengan range 0,60-0,70 dikatakan poor classification, dan akurasi dengan range 0,50-0,60 dikatakan sebagai failure classification\n",
        "\n",
        "Model dengan akurasi terbaik dengan mempertimbangan cross validation mean dan cross validation standar deviasi akan dipilih untuk selanjutnya dilakukan hyperparamater tuning menggunakan Grid Search. Grid Search sendiri berguna untuk membantu pemilihan hyperparamater yang range angkanya sudah di persiapakn sehingga peneliti tidak perlu melakukan running model secara berulang kali.  \n",
        "\n",
        "Tidak seperti angka akurasi dan standar deviasi yang nilainya semakin mendekati 1 merepresentasikan model semakin baik, sebaliknya untuk standar deviasi yang di hasilkan dari cross validation semakin kecil nilainya berarti model tersebut semakin kecil kemungkinananya dalam melakukan kesalahan klasifikasi"
      ]
    },
    {
      "cell_type": "markdown",
      "metadata": {
        "id": "v9Tt_w3pUjI0"
      },
      "source": [
        "## Feature Selection"
      ]
    },
    {
      "cell_type": "code",
      "execution_count": 9,
      "metadata": {
        "colab": {
          "base_uri": "https://localhost:8080/"
        },
        "id": "kHttAqDbUmUJ",
        "outputId": "2564994a-29da-4439-c50a-f0d105ae37ee"
      },
      "outputs": [
        {
          "data": {
            "text/plain": [
              "Index(['limit_balance', 'sex', 'education_level', 'marital_status', 'age',\n",
              "       'pay_0', 'pay_2', 'pay_3', 'pay_4', 'pay_5', 'pay_6', 'bill_amt_1',\n",
              "       'bill_amt_2', 'bill_amt_3', 'bill_amt_4', 'bill_amt_5', 'bill_amt_6',\n",
              "       'pay_amt_1', 'pay_amt_2', 'pay_amt_3', 'pay_amt_4', 'pay_amt_5',\n",
              "       'pay_amt_6', 'default_payment_next_month'],\n",
              "      dtype='object')"
            ]
          },
          "execution_count": 9,
          "metadata": {},
          "output_type": "execute_result"
        }
      ],
      "source": [
        "# Kode ini digunakan untuk mempermudah saya melihat kolom apa saja yang terdapat pada dataset\n",
        "df.columns"
      ]
    },
    {
      "cell_type": "markdown",
      "metadata": {
        "id": "K7lIcHxnN0w9"
      },
      "source": [
        "Berdasarkan penjelasan yang ada di EDA saya memilih limit balance, educational level, pay_0, pay_2, pay_3, pay_4, pay_5, pay_6 sebagai variabel independent untuk memprediksi default_payment_next_month yang saya jadikan sebagai variabel dependent"
      ]
    },
    {
      "cell_type": "code",
      "execution_count": 10,
      "metadata": {
        "colab": {
          "base_uri": "https://localhost:8080/",
          "height": 206
        },
        "id": "EjzoKjqL1KJp",
        "outputId": "8084ee26-83a2-410c-a155-790ec082741a"
      },
      "outputs": [
        {
          "data": {
            "text/html": [
              "<div>\n",
              "<style scoped>\n",
              "    .dataframe tbody tr th:only-of-type {\n",
              "        vertical-align: middle;\n",
              "    }\n",
              "\n",
              "    .dataframe tbody tr th {\n",
              "        vertical-align: top;\n",
              "    }\n",
              "\n",
              "    .dataframe thead th {\n",
              "        text-align: right;\n",
              "    }\n",
              "</style>\n",
              "<table border=\"1\" class=\"dataframe\">\n",
              "  <thead>\n",
              "    <tr style=\"text-align: right;\">\n",
              "      <th></th>\n",
              "      <th>limit_balance</th>\n",
              "      <th>education_level</th>\n",
              "      <th>pay_0</th>\n",
              "      <th>pay_2</th>\n",
              "      <th>pay_3</th>\n",
              "      <th>pay_amt_4</th>\n",
              "      <th>pay_amt_5</th>\n",
              "      <th>pay_amt_6</th>\n",
              "      <th>default_payment_next_month</th>\n",
              "    </tr>\n",
              "  </thead>\n",
              "  <tbody>\n",
              "    <tr>\n",
              "      <th>0</th>\n",
              "      <td>50000.0</td>\n",
              "      <td>1</td>\n",
              "      <td>0.0</td>\n",
              "      <td>0.0</td>\n",
              "      <td>0.0</td>\n",
              "      <td>2000.0</td>\n",
              "      <td>2000.0</td>\n",
              "      <td>2000.0</td>\n",
              "      <td>0</td>\n",
              "    </tr>\n",
              "    <tr>\n",
              "      <th>1</th>\n",
              "      <td>110000.0</td>\n",
              "      <td>1</td>\n",
              "      <td>0.0</td>\n",
              "      <td>0.0</td>\n",
              "      <td>0.0</td>\n",
              "      <td>3000.0</td>\n",
              "      <td>3000.0</td>\n",
              "      <td>1000.0</td>\n",
              "      <td>0</td>\n",
              "    </tr>\n",
              "    <tr>\n",
              "      <th>2</th>\n",
              "      <td>270000.0</td>\n",
              "      <td>1</td>\n",
              "      <td>0.0</td>\n",
              "      <td>0.0</td>\n",
              "      <td>0.0</td>\n",
              "      <td>2051.0</td>\n",
              "      <td>2000.0</td>\n",
              "      <td>0.0</td>\n",
              "      <td>0</td>\n",
              "    </tr>\n",
              "    <tr>\n",
              "      <th>3</th>\n",
              "      <td>130000.0</td>\n",
              "      <td>1</td>\n",
              "      <td>0.0</td>\n",
              "      <td>0.0</td>\n",
              "      <td>0.0</td>\n",
              "      <td>2354.0</td>\n",
              "      <td>2366.0</td>\n",
              "      <td>2291.0</td>\n",
              "      <td>0</td>\n",
              "    </tr>\n",
              "    <tr>\n",
              "      <th>4</th>\n",
              "      <td>50000.0</td>\n",
              "      <td>1</td>\n",
              "      <td>0.0</td>\n",
              "      <td>0.0</td>\n",
              "      <td>0.0</td>\n",
              "      <td>709.0</td>\n",
              "      <td>721.0</td>\n",
              "      <td>692.0</td>\n",
              "      <td>0</td>\n",
              "    </tr>\n",
              "  </tbody>\n",
              "</table>\n",
              "</div>"
            ],
            "text/plain": [
              "   limit_balance  education_level  pay_0  pay_2  pay_3  pay_amt_4  pay_amt_5  \\\n",
              "0        50000.0                1    0.0    0.0    0.0     2000.0     2000.0   \n",
              "1       110000.0                1    0.0    0.0    0.0     3000.0     3000.0   \n",
              "2       270000.0                1    0.0    0.0    0.0     2051.0     2000.0   \n",
              "3       130000.0                1    0.0    0.0    0.0     2354.0     2366.0   \n",
              "4        50000.0                1    0.0    0.0    0.0      709.0      721.0   \n",
              "\n",
              "   pay_amt_6  default_payment_next_month  \n",
              "0     2000.0                           0  \n",
              "1     1000.0                           0  \n",
              "2        0.0                           0  \n",
              "3     2291.0                           0  \n",
              "4      692.0                           0  "
            ]
          },
          "execution_count": 10,
          "metadata": {},
          "output_type": "execute_result"
        }
      ],
      "source": [
        "df_copy = df[['limit_balance','education_level','pay_0','pay_2','pay_3','pay_amt_4','pay_amt_5','pay_amt_6','default_payment_next_month']]\n",
        "df_copy.head(5)"
      ]
    },
    {
      "cell_type": "markdown",
      "metadata": {
        "id": "MVUo_F8uC4gT"
      },
      "source": [
        "### Splitting dataset for model inference"
      ]
    },
    {
      "cell_type": "code",
      "execution_count": 11,
      "metadata": {
        "colab": {
          "base_uri": "https://localhost:8080/",
          "height": 206
        },
        "id": "YlEIfncQ1rBB",
        "outputId": "d075968f-4f0c-4aa6-de7c-25f566f2849e"
      },
      "outputs": [
        {
          "data": {
            "text/html": [
              "<div>\n",
              "<style scoped>\n",
              "    .dataframe tbody tr th:only-of-type {\n",
              "        vertical-align: middle;\n",
              "    }\n",
              "\n",
              "    .dataframe tbody tr th {\n",
              "        vertical-align: top;\n",
              "    }\n",
              "\n",
              "    .dataframe thead th {\n",
              "        text-align: right;\n",
              "    }\n",
              "</style>\n",
              "<table border=\"1\" class=\"dataframe\">\n",
              "  <thead>\n",
              "    <tr style=\"text-align: right;\">\n",
              "      <th></th>\n",
              "      <th>limit_balance</th>\n",
              "      <th>education_level</th>\n",
              "      <th>pay_0</th>\n",
              "      <th>pay_2</th>\n",
              "      <th>pay_3</th>\n",
              "      <th>pay_amt_4</th>\n",
              "      <th>pay_amt_5</th>\n",
              "      <th>pay_amt_6</th>\n",
              "      <th>default_payment_next_month</th>\n",
              "    </tr>\n",
              "  </thead>\n",
              "  <tbody>\n",
              "    <tr>\n",
              "      <th>91</th>\n",
              "      <td>420000.0</td>\n",
              "      <td>2</td>\n",
              "      <td>0.0</td>\n",
              "      <td>0.0</td>\n",
              "      <td>0.0</td>\n",
              "      <td>5900.0</td>\n",
              "      <td>6000.0</td>\n",
              "      <td>6000.0</td>\n",
              "      <td>0</td>\n",
              "    </tr>\n",
              "    <tr>\n",
              "      <th>325</th>\n",
              "      <td>30000.0</td>\n",
              "      <td>2</td>\n",
              "      <td>2.0</td>\n",
              "      <td>0.0</td>\n",
              "      <td>0.0</td>\n",
              "      <td>500.0</td>\n",
              "      <td>1500.0</td>\n",
              "      <td>0.0</td>\n",
              "      <td>1</td>\n",
              "    </tr>\n",
              "    <tr>\n",
              "      <th>47</th>\n",
              "      <td>40000.0</td>\n",
              "      <td>3</td>\n",
              "      <td>0.0</td>\n",
              "      <td>0.0</td>\n",
              "      <td>0.0</td>\n",
              "      <td>6000.0</td>\n",
              "      <td>2000.0</td>\n",
              "      <td>2000.0</td>\n",
              "      <td>0</td>\n",
              "    </tr>\n",
              "    <tr>\n",
              "      <th>1488</th>\n",
              "      <td>70000.0</td>\n",
              "      <td>3</td>\n",
              "      <td>0.0</td>\n",
              "      <td>0.0</td>\n",
              "      <td>-1.0</td>\n",
              "      <td>3150.0</td>\n",
              "      <td>2000.0</td>\n",
              "      <td>4000.0</td>\n",
              "      <td>0</td>\n",
              "    </tr>\n",
              "    <tr>\n",
              "      <th>446</th>\n",
              "      <td>60000.0</td>\n",
              "      <td>2</td>\n",
              "      <td>-1.0</td>\n",
              "      <td>0.0</td>\n",
              "      <td>-1.0</td>\n",
              "      <td>200.0</td>\n",
              "      <td>1832.0</td>\n",
              "      <td>5889.0</td>\n",
              "      <td>0</td>\n",
              "    </tr>\n",
              "  </tbody>\n",
              "</table>\n",
              "</div>"
            ],
            "text/plain": [
              "      limit_balance  education_level  pay_0  pay_2  pay_3  pay_amt_4  \\\n",
              "91         420000.0                2    0.0    0.0    0.0     5900.0   \n",
              "325         30000.0                2    2.0    0.0    0.0      500.0   \n",
              "47          40000.0                3    0.0    0.0    0.0     6000.0   \n",
              "1488        70000.0                3    0.0    0.0   -1.0     3150.0   \n",
              "446         60000.0                2   -1.0    0.0   -1.0      200.0   \n",
              "\n",
              "      pay_amt_5  pay_amt_6  default_payment_next_month  \n",
              "91       6000.0     6000.0                           0  \n",
              "325      1500.0        0.0                           1  \n",
              "47       2000.0     2000.0                           0  \n",
              "1488     2000.0     4000.0                           0  \n",
              "446      1832.0     5889.0                           0  "
            ]
          },
          "execution_count": 11,
          "metadata": {},
          "output_type": "execute_result"
        }
      ],
      "source": [
        "data_inf = df_copy.sample(10, random_state=17)\n",
        "data_inf.head(5)"
      ]
    },
    {
      "cell_type": "code",
      "execution_count": 12,
      "metadata": {
        "colab": {
          "base_uri": "https://localhost:8080/",
          "height": 206
        },
        "id": "iQeZqqEO1sxn",
        "outputId": "beb8d1ef-90c6-44e9-ab66-97c58a34d8ca"
      },
      "outputs": [
        {
          "data": {
            "text/html": [
              "<div>\n",
              "<style scoped>\n",
              "    .dataframe tbody tr th:only-of-type {\n",
              "        vertical-align: middle;\n",
              "    }\n",
              "\n",
              "    .dataframe tbody tr th {\n",
              "        vertical-align: top;\n",
              "    }\n",
              "\n",
              "    .dataframe thead th {\n",
              "        text-align: right;\n",
              "    }\n",
              "</style>\n",
              "<table border=\"1\" class=\"dataframe\">\n",
              "  <thead>\n",
              "    <tr style=\"text-align: right;\">\n",
              "      <th></th>\n",
              "      <th>limit_balance</th>\n",
              "      <th>education_level</th>\n",
              "      <th>pay_0</th>\n",
              "      <th>pay_2</th>\n",
              "      <th>pay_3</th>\n",
              "      <th>pay_amt_4</th>\n",
              "      <th>pay_amt_5</th>\n",
              "      <th>pay_amt_6</th>\n",
              "      <th>default_payment_next_month</th>\n",
              "    </tr>\n",
              "  </thead>\n",
              "  <tbody>\n",
              "    <tr>\n",
              "      <th>0</th>\n",
              "      <td>50000.0</td>\n",
              "      <td>1</td>\n",
              "      <td>0.0</td>\n",
              "      <td>0.0</td>\n",
              "      <td>0.0</td>\n",
              "      <td>2000.0</td>\n",
              "      <td>2000.0</td>\n",
              "      <td>2000.0</td>\n",
              "      <td>0</td>\n",
              "    </tr>\n",
              "    <tr>\n",
              "      <th>1</th>\n",
              "      <td>110000.0</td>\n",
              "      <td>1</td>\n",
              "      <td>0.0</td>\n",
              "      <td>0.0</td>\n",
              "      <td>0.0</td>\n",
              "      <td>3000.0</td>\n",
              "      <td>3000.0</td>\n",
              "      <td>1000.0</td>\n",
              "      <td>0</td>\n",
              "    </tr>\n",
              "    <tr>\n",
              "      <th>2</th>\n",
              "      <td>270000.0</td>\n",
              "      <td>1</td>\n",
              "      <td>0.0</td>\n",
              "      <td>0.0</td>\n",
              "      <td>0.0</td>\n",
              "      <td>2051.0</td>\n",
              "      <td>2000.0</td>\n",
              "      <td>0.0</td>\n",
              "      <td>0</td>\n",
              "    </tr>\n",
              "    <tr>\n",
              "      <th>3</th>\n",
              "      <td>130000.0</td>\n",
              "      <td>1</td>\n",
              "      <td>0.0</td>\n",
              "      <td>0.0</td>\n",
              "      <td>0.0</td>\n",
              "      <td>2354.0</td>\n",
              "      <td>2366.0</td>\n",
              "      <td>2291.0</td>\n",
              "      <td>0</td>\n",
              "    </tr>\n",
              "    <tr>\n",
              "      <th>4</th>\n",
              "      <td>50000.0</td>\n",
              "      <td>1</td>\n",
              "      <td>0.0</td>\n",
              "      <td>0.0</td>\n",
              "      <td>0.0</td>\n",
              "      <td>709.0</td>\n",
              "      <td>721.0</td>\n",
              "      <td>692.0</td>\n",
              "      <td>0</td>\n",
              "    </tr>\n",
              "  </tbody>\n",
              "</table>\n",
              "</div>"
            ],
            "text/plain": [
              "   limit_balance  education_level  pay_0  pay_2  pay_3  pay_amt_4  pay_amt_5  \\\n",
              "0        50000.0                1    0.0    0.0    0.0     2000.0     2000.0   \n",
              "1       110000.0                1    0.0    0.0    0.0     3000.0     3000.0   \n",
              "2       270000.0                1    0.0    0.0    0.0     2051.0     2000.0   \n",
              "3       130000.0                1    0.0    0.0    0.0     2354.0     2366.0   \n",
              "4        50000.0                1    0.0    0.0    0.0      709.0      721.0   \n",
              "\n",
              "   pay_amt_6  default_payment_next_month  \n",
              "0     2000.0                           0  \n",
              "1     1000.0                           0  \n",
              "2        0.0                           0  \n",
              "3     2291.0                           0  \n",
              "4      692.0                           0  "
            ]
          },
          "execution_count": 12,
          "metadata": {},
          "output_type": "execute_result"
        }
      ],
      "source": [
        "data_train_test = df_copy.drop(data_inf.index)\n",
        "data_train_test.head(5)"
      ]
    },
    {
      "cell_type": "code",
      "execution_count": 13,
      "metadata": {
        "colab": {
          "base_uri": "https://localhost:8080/",
          "height": 206
        },
        "id": "zKShAVfh1xYA",
        "outputId": "9a0460e8-4b48-47c1-e508-6bdff0021eed"
      },
      "outputs": [
        {
          "data": {
            "text/html": [
              "<div>\n",
              "<style scoped>\n",
              "    .dataframe tbody tr th:only-of-type {\n",
              "        vertical-align: middle;\n",
              "    }\n",
              "\n",
              "    .dataframe tbody tr th {\n",
              "        vertical-align: top;\n",
              "    }\n",
              "\n",
              "    .dataframe thead th {\n",
              "        text-align: right;\n",
              "    }\n",
              "</style>\n",
              "<table border=\"1\" class=\"dataframe\">\n",
              "  <thead>\n",
              "    <tr style=\"text-align: right;\">\n",
              "      <th></th>\n",
              "      <th>limit_balance</th>\n",
              "      <th>education_level</th>\n",
              "      <th>pay_0</th>\n",
              "      <th>pay_2</th>\n",
              "      <th>pay_3</th>\n",
              "      <th>pay_amt_4</th>\n",
              "      <th>pay_amt_5</th>\n",
              "      <th>pay_amt_6</th>\n",
              "      <th>default_payment_next_month</th>\n",
              "    </tr>\n",
              "  </thead>\n",
              "  <tbody>\n",
              "    <tr>\n",
              "      <th>0</th>\n",
              "      <td>420000.0</td>\n",
              "      <td>2</td>\n",
              "      <td>0.0</td>\n",
              "      <td>0.0</td>\n",
              "      <td>0.0</td>\n",
              "      <td>5900.0</td>\n",
              "      <td>6000.0</td>\n",
              "      <td>6000.0</td>\n",
              "      <td>0</td>\n",
              "    </tr>\n",
              "    <tr>\n",
              "      <th>1</th>\n",
              "      <td>30000.0</td>\n",
              "      <td>2</td>\n",
              "      <td>2.0</td>\n",
              "      <td>0.0</td>\n",
              "      <td>0.0</td>\n",
              "      <td>500.0</td>\n",
              "      <td>1500.0</td>\n",
              "      <td>0.0</td>\n",
              "      <td>1</td>\n",
              "    </tr>\n",
              "    <tr>\n",
              "      <th>2</th>\n",
              "      <td>40000.0</td>\n",
              "      <td>3</td>\n",
              "      <td>0.0</td>\n",
              "      <td>0.0</td>\n",
              "      <td>0.0</td>\n",
              "      <td>6000.0</td>\n",
              "      <td>2000.0</td>\n",
              "      <td>2000.0</td>\n",
              "      <td>0</td>\n",
              "    </tr>\n",
              "    <tr>\n",
              "      <th>3</th>\n",
              "      <td>70000.0</td>\n",
              "      <td>3</td>\n",
              "      <td>0.0</td>\n",
              "      <td>0.0</td>\n",
              "      <td>-1.0</td>\n",
              "      <td>3150.0</td>\n",
              "      <td>2000.0</td>\n",
              "      <td>4000.0</td>\n",
              "      <td>0</td>\n",
              "    </tr>\n",
              "    <tr>\n",
              "      <th>4</th>\n",
              "      <td>60000.0</td>\n",
              "      <td>2</td>\n",
              "      <td>-1.0</td>\n",
              "      <td>0.0</td>\n",
              "      <td>-1.0</td>\n",
              "      <td>200.0</td>\n",
              "      <td>1832.0</td>\n",
              "      <td>5889.0</td>\n",
              "      <td>0</td>\n",
              "    </tr>\n",
              "  </tbody>\n",
              "</table>\n",
              "</div>"
            ],
            "text/plain": [
              "   limit_balance  education_level  pay_0  pay_2  pay_3  pay_amt_4  pay_amt_5  \\\n",
              "0       420000.0                2    0.0    0.0    0.0     5900.0     6000.0   \n",
              "1        30000.0                2    2.0    0.0    0.0      500.0     1500.0   \n",
              "2        40000.0                3    0.0    0.0    0.0     6000.0     2000.0   \n",
              "3        70000.0                3    0.0    0.0   -1.0     3150.0     2000.0   \n",
              "4        60000.0                2   -1.0    0.0   -1.0      200.0     1832.0   \n",
              "\n",
              "   pay_amt_6  default_payment_next_month  \n",
              "0     6000.0                           0  \n",
              "1        0.0                           1  \n",
              "2     2000.0                           0  \n",
              "3     4000.0                           0  \n",
              "4     5889.0                           0  "
            ]
          },
          "execution_count": 13,
          "metadata": {},
          "output_type": "execute_result"
        }
      ],
      "source": [
        "data_train_test.reset_index(drop=True, inplace=True)\n",
        "data_inf.reset_index(drop=True, inplace=True)\n",
        "data_inf.head(5)"
      ]
    },
    {
      "cell_type": "code",
      "execution_count": 14,
      "metadata": {
        "colab": {
          "base_uri": "https://localhost:8080/",
          "height": 206
        },
        "id": "fKpoiW701zOS",
        "outputId": "655a09c1-c197-4f2b-d26f-828cf792ef6f"
      },
      "outputs": [
        {
          "data": {
            "text/html": [
              "<div>\n",
              "<style scoped>\n",
              "    .dataframe tbody tr th:only-of-type {\n",
              "        vertical-align: middle;\n",
              "    }\n",
              "\n",
              "    .dataframe tbody tr th {\n",
              "        vertical-align: top;\n",
              "    }\n",
              "\n",
              "    .dataframe thead th {\n",
              "        text-align: right;\n",
              "    }\n",
              "</style>\n",
              "<table border=\"1\" class=\"dataframe\">\n",
              "  <thead>\n",
              "    <tr style=\"text-align: right;\">\n",
              "      <th></th>\n",
              "      <th>limit_balance</th>\n",
              "      <th>education_level</th>\n",
              "      <th>pay_0</th>\n",
              "      <th>pay_2</th>\n",
              "      <th>pay_3</th>\n",
              "      <th>pay_amt_4</th>\n",
              "      <th>pay_amt_5</th>\n",
              "      <th>pay_amt_6</th>\n",
              "    </tr>\n",
              "  </thead>\n",
              "  <tbody>\n",
              "    <tr>\n",
              "      <th>0</th>\n",
              "      <td>50000.0</td>\n",
              "      <td>1</td>\n",
              "      <td>0.0</td>\n",
              "      <td>0.0</td>\n",
              "      <td>0.0</td>\n",
              "      <td>2000.0</td>\n",
              "      <td>2000.0</td>\n",
              "      <td>2000.0</td>\n",
              "    </tr>\n",
              "    <tr>\n",
              "      <th>1</th>\n",
              "      <td>110000.0</td>\n",
              "      <td>1</td>\n",
              "      <td>0.0</td>\n",
              "      <td>0.0</td>\n",
              "      <td>0.0</td>\n",
              "      <td>3000.0</td>\n",
              "      <td>3000.0</td>\n",
              "      <td>1000.0</td>\n",
              "    </tr>\n",
              "    <tr>\n",
              "      <th>2</th>\n",
              "      <td>270000.0</td>\n",
              "      <td>1</td>\n",
              "      <td>0.0</td>\n",
              "      <td>0.0</td>\n",
              "      <td>0.0</td>\n",
              "      <td>2051.0</td>\n",
              "      <td>2000.0</td>\n",
              "      <td>0.0</td>\n",
              "    </tr>\n",
              "    <tr>\n",
              "      <th>3</th>\n",
              "      <td>130000.0</td>\n",
              "      <td>1</td>\n",
              "      <td>0.0</td>\n",
              "      <td>0.0</td>\n",
              "      <td>0.0</td>\n",
              "      <td>2354.0</td>\n",
              "      <td>2366.0</td>\n",
              "      <td>2291.0</td>\n",
              "    </tr>\n",
              "    <tr>\n",
              "      <th>4</th>\n",
              "      <td>50000.0</td>\n",
              "      <td>1</td>\n",
              "      <td>0.0</td>\n",
              "      <td>0.0</td>\n",
              "      <td>0.0</td>\n",
              "      <td>709.0</td>\n",
              "      <td>721.0</td>\n",
              "      <td>692.0</td>\n",
              "    </tr>\n",
              "  </tbody>\n",
              "</table>\n",
              "</div>"
            ],
            "text/plain": [
              "   limit_balance  education_level  pay_0  pay_2  pay_3  pay_amt_4  pay_amt_5  \\\n",
              "0        50000.0                1    0.0    0.0    0.0     2000.0     2000.0   \n",
              "1       110000.0                1    0.0    0.0    0.0     3000.0     3000.0   \n",
              "2       270000.0                1    0.0    0.0    0.0     2051.0     2000.0   \n",
              "3       130000.0                1    0.0    0.0    0.0     2354.0     2366.0   \n",
              "4        50000.0                1    0.0    0.0    0.0      709.0      721.0   \n",
              "\n",
              "   pay_amt_6  \n",
              "0     2000.0  \n",
              "1     1000.0  \n",
              "2        0.0  \n",
              "3     2291.0  \n",
              "4      692.0  "
            ]
          },
          "execution_count": 14,
          "metadata": {},
          "output_type": "execute_result"
        }
      ],
      "source": [
        "x = data_train_test.drop('default_payment_next_month', axis=1)\n",
        "y = data_train_test['default_payment_next_month']\n",
        "x.head(5)"
      ]
    },
    {
      "cell_type": "markdown",
      "metadata": {
        "id": "mj5jtusyU2VL"
      },
      "source": [
        "## Splitting Dataset"
      ]
    },
    {
      "cell_type": "code",
      "execution_count": 15,
      "metadata": {
        "colab": {
          "base_uri": "https://localhost:8080/"
        },
        "id": "JBqw7QTK12rF",
        "outputId": "44b0d572-9781-47d4-8885-42daadc8f675"
      },
      "outputs": [
        {
          "name": "stdout",
          "output_type": "stream",
          "text": [
            "Train Size : (2364, 8)\n",
            "Test Size : (591, 8)\n"
          ]
        }
      ],
      "source": [
        "X_train, X_test, y_train, y_test = train_test_split(x,y, test_size=0.2, random_state=17)\n",
        "\n",
        "print('Train Size :', X_train.shape)\n",
        "print('Test Size :', X_test.shape)"
      ]
    },
    {
      "cell_type": "code",
      "execution_count": 16,
      "metadata": {
        "colab": {
          "base_uri": "https://localhost:8080/",
          "height": 206
        },
        "id": "LrL2YNltVB8Z",
        "outputId": "38bce69b-43d9-47b4-ad1a-166f9c84e672"
      },
      "outputs": [
        {
          "data": {
            "text/html": [
              "<div>\n",
              "<style scoped>\n",
              "    .dataframe tbody tr th:only-of-type {\n",
              "        vertical-align: middle;\n",
              "    }\n",
              "\n",
              "    .dataframe tbody tr th {\n",
              "        vertical-align: top;\n",
              "    }\n",
              "\n",
              "    .dataframe thead th {\n",
              "        text-align: right;\n",
              "    }\n",
              "</style>\n",
              "<table border=\"1\" class=\"dataframe\">\n",
              "  <thead>\n",
              "    <tr style=\"text-align: right;\">\n",
              "      <th></th>\n",
              "      <th>limit_balance</th>\n",
              "      <th>education_level</th>\n",
              "      <th>pay_0</th>\n",
              "      <th>pay_2</th>\n",
              "      <th>pay_3</th>\n",
              "      <th>pay_amt_4</th>\n",
              "      <th>pay_amt_5</th>\n",
              "      <th>pay_amt_6</th>\n",
              "    </tr>\n",
              "  </thead>\n",
              "  <tbody>\n",
              "    <tr>\n",
              "      <th>810</th>\n",
              "      <td>120000.0</td>\n",
              "      <td>1</td>\n",
              "      <td>-1.0</td>\n",
              "      <td>0.0</td>\n",
              "      <td>0.0</td>\n",
              "      <td>5000.0</td>\n",
              "      <td>5000.0</td>\n",
              "      <td>4000.0</td>\n",
              "    </tr>\n",
              "    <tr>\n",
              "      <th>2575</th>\n",
              "      <td>160000.0</td>\n",
              "      <td>2</td>\n",
              "      <td>1.0</td>\n",
              "      <td>-1.0</td>\n",
              "      <td>-1.0</td>\n",
              "      <td>1496.0</td>\n",
              "      <td>1496.0</td>\n",
              "      <td>1496.0</td>\n",
              "    </tr>\n",
              "    <tr>\n",
              "      <th>366</th>\n",
              "      <td>100000.0</td>\n",
              "      <td>3</td>\n",
              "      <td>0.0</td>\n",
              "      <td>0.0</td>\n",
              "      <td>0.0</td>\n",
              "      <td>1589.0</td>\n",
              "      <td>2000.0</td>\n",
              "      <td>1506.0</td>\n",
              "    </tr>\n",
              "    <tr>\n",
              "      <th>2622</th>\n",
              "      <td>170000.0</td>\n",
              "      <td>2</td>\n",
              "      <td>-1.0</td>\n",
              "      <td>-1.0</td>\n",
              "      <td>-1.0</td>\n",
              "      <td>648.0</td>\n",
              "      <td>0.0</td>\n",
              "      <td>631.0</td>\n",
              "    </tr>\n",
              "    <tr>\n",
              "      <th>2891</th>\n",
              "      <td>110000.0</td>\n",
              "      <td>2</td>\n",
              "      <td>1.0</td>\n",
              "      <td>-1.0</td>\n",
              "      <td>-1.0</td>\n",
              "      <td>0.0</td>\n",
              "      <td>0.0</td>\n",
              "      <td>0.0</td>\n",
              "    </tr>\n",
              "  </tbody>\n",
              "</table>\n",
              "</div>"
            ],
            "text/plain": [
              "      limit_balance  education_level  pay_0  pay_2  pay_3  pay_amt_4  \\\n",
              "810        120000.0                1   -1.0    0.0    0.0     5000.0   \n",
              "2575       160000.0                2    1.0   -1.0   -1.0     1496.0   \n",
              "366        100000.0                3    0.0    0.0    0.0     1589.0   \n",
              "2622       170000.0                2   -1.0   -1.0   -1.0      648.0   \n",
              "2891       110000.0                2    1.0   -1.0   -1.0        0.0   \n",
              "\n",
              "      pay_amt_5  pay_amt_6  \n",
              "810      5000.0     4000.0  \n",
              "2575     1496.0     1496.0  \n",
              "366      2000.0     1506.0  \n",
              "2622        0.0      631.0  \n",
              "2891        0.0        0.0  "
            ]
          },
          "execution_count": 16,
          "metadata": {},
          "output_type": "execute_result"
        }
      ],
      "source": [
        "X_train.head()"
      ]
    },
    {
      "cell_type": "markdown",
      "metadata": {
        "id": "o_GLUBMtaALy"
      },
      "source": [
        "## Detecting Missing Value"
      ]
    },
    {
      "cell_type": "code",
      "execution_count": 17,
      "metadata": {
        "colab": {
          "base_uri": "https://localhost:8080/"
        },
        "id": "tPqWeulkaFZO",
        "outputId": "085915f3-a389-4a6f-e918-75c6aa071b06"
      },
      "outputs": [
        {
          "data": {
            "text/plain": [
              "limit_balance      0\n",
              "education_level    0\n",
              "pay_0              0\n",
              "pay_2              0\n",
              "pay_3              0\n",
              "pay_amt_4          0\n",
              "pay_amt_5          0\n",
              "pay_amt_6          0\n",
              "dtype: int64"
            ]
          },
          "execution_count": 17,
          "metadata": {},
          "output_type": "execute_result"
        }
      ],
      "source": [
        "X_train.isna().sum()"
      ]
    },
    {
      "cell_type": "markdown",
      "metadata": {
        "id": "0e9KxpzwaNx5"
      },
      "source": [
        "Setelah di lakukan pengecekan tidak ada missing value pada X_train"
      ]
    },
    {
      "cell_type": "code",
      "execution_count": 18,
      "metadata": {
        "colab": {
          "base_uri": "https://localhost:8080/"
        },
        "id": "-xRPCScOaVIB",
        "outputId": "970c5494-6ead-4ea0-8448-4b55f892bf3f"
      },
      "outputs": [
        {
          "data": {
            "text/plain": [
              "0"
            ]
          },
          "execution_count": 18,
          "metadata": {},
          "output_type": "execute_result"
        }
      ],
      "source": [
        "y_train.isna().sum()"
      ]
    },
    {
      "cell_type": "markdown",
      "metadata": {
        "id": "WsFWPTn3aai9"
      },
      "source": [
        "Setelah di lakukan pengecekan pada y_train hasilnya tidak ditemukan  missing value pada variabel tersebut"
      ]
    },
    {
      "cell_type": "code",
      "execution_count": 19,
      "metadata": {
        "colab": {
          "base_uri": "https://localhost:8080/"
        },
        "id": "SUszTX_9asyD",
        "outputId": "9b84f2c4-4b42-4026-b2fc-90e06069ba3e"
      },
      "outputs": [
        {
          "data": {
            "text/plain": [
              "limit_balance      0\n",
              "education_level    0\n",
              "pay_0              0\n",
              "pay_2              0\n",
              "pay_3              0\n",
              "pay_amt_4          0\n",
              "pay_amt_5          0\n",
              "pay_amt_6          0\n",
              "dtype: int64"
            ]
          },
          "execution_count": 19,
          "metadata": {},
          "output_type": "execute_result"
        }
      ],
      "source": [
        "X_test.isna().sum()"
      ]
    },
    {
      "cell_type": "markdown",
      "metadata": {
        "id": "HzO9FeNlazCb"
      },
      "source": [
        "Setelah di lakukan pengecekan pada X_test tidak ditemukan adanya missing value"
      ]
    },
    {
      "cell_type": "code",
      "execution_count": 20,
      "metadata": {
        "colab": {
          "base_uri": "https://localhost:8080/"
        },
        "id": "pN7BMTQGbFk7",
        "outputId": "c64558d3-507b-45f8-eb47-e766e453f187"
      },
      "outputs": [
        {
          "data": {
            "text/plain": [
              "0"
            ]
          },
          "execution_count": 20,
          "metadata": {},
          "output_type": "execute_result"
        }
      ],
      "source": [
        "y_test.isna().sum()"
      ]
    },
    {
      "cell_type": "markdown",
      "metadata": {
        "id": "5V9VDo_xbJXc"
      },
      "source": [
        "Setelah di lakukan pengecekan pada y_test tidak ditemukan adanaya missing value."
      ]
    },
    {
      "cell_type": "markdown",
      "metadata": {
        "id": "m97lRpdwbSpP"
      },
      "source": [
        "## Detecting Outliers"
      ]
    },
    {
      "cell_type": "markdown",
      "metadata": {
        "id": "kDApFvSJb5Mi"
      },
      "source": [
        "Pada penelitian ini tidak dilakukan handling outlier karena dataset yang digunakan sangat sensitif jika dilakukan handling outlier seperti yang kita tahu bahwa persebaran data yang jauh dari persebaran data secara umum pada penelitian ini masih merepresentasikan data sebenarnya dan akan berpengaruh pada hasil penelitian. Namun akan dilakukan pengecekan outlier."
      ]
    },
    {
      "cell_type": "markdown",
      "metadata": {
        "id": "KuWhDgkIfLvW"
      },
      "source": [
        "### Splitting antara Numerical dan Categorical Data"
      ]
    },
    {
      "cell_type": "code",
      "execution_count": 21,
      "metadata": {
        "colab": {
          "base_uri": "https://localhost:8080/"
        },
        "id": "SNEpB57Ye_Ap",
        "outputId": "501b2b1d-ef2f-4033-91ca-b3130e94829c"
      },
      "outputs": [
        {
          "name": "stdout",
          "output_type": "stream",
          "text": [
            "Numerical Columns :  ['limit_balance', 'education_level', 'pay_0', 'pay_2', 'pay_3', 'pay_amt_4', 'pay_amt_5', 'pay_amt_6']\n",
            "Categorical Columns :  []\n"
          ]
        }
      ],
      "source": [
        "num_columns = X_train.select_dtypes(include=np.number).columns.tolist()\n",
        "cat_columns = X_train.select_dtypes(include=['object']).columns.tolist()\n",
        "\n",
        "print('Numerical Columns : ', num_columns)\n",
        "print('Categorical Columns : ', cat_columns)"
      ]
    },
    {
      "cell_type": "code",
      "execution_count": 22,
      "metadata": {
        "id": "PmadBecnfR3f"
      },
      "outputs": [],
      "source": [
        "X_train_num = X_train[num_columns]\n",
        "X_train_cat = X_train[cat_columns]\n",
        "\n",
        "X_test_num = X_test[num_columns]\n",
        "X_test_cat = X_test[cat_columns]"
      ]
    },
    {
      "cell_type": "code",
      "execution_count": 23,
      "metadata": {
        "id": "RhihaOMtf3QO"
      },
      "outputs": [],
      "source": [
        "def find_skewed_boundaries(df_copy, variable):\n",
        "    IQR = df[variable].quantile(0.75) - df[variable].quantile(0.25)\n",
        "\n",
        "    lower_boundary = df[variable].quantile(0.25) - (IQR * 1.5)\n",
        "    upper_boundary = df[variable].quantile(0.75) + (IQR * 1.5)\n",
        "\n",
        "    return upper_boundary, lower_boundary"
      ]
    },
    {
      "cell_type": "code",
      "execution_count": 24,
      "metadata": {
        "id": "gWHj6rNxf7cB"
      },
      "outputs": [],
      "source": [
        "upper_limit,lower_limit=find_skewed_boundaries(X_train_num,'limit_balance')"
      ]
    },
    {
      "cell_type": "code",
      "execution_count": 25,
      "metadata": {
        "colab": {
          "base_uri": "https://localhost:8080/"
        },
        "id": "qLKSDy7bfugZ",
        "outputId": "c4fcc6fd-a1ce-40e2-ff87-89ad76ab4821"
      },
      "outputs": [
        {
          "name": "stdout",
          "output_type": "stream",
          "text": [
            "Total data: 2364\n",
            "(right end outliers) : 10\n",
            "(left end outliers.  : 0\n",
            "\n",
            "% right end outliers : 0.4230118443316413\n",
            "% left end outliers  : 0.0\n"
          ]
        }
      ],
      "source": [
        "print('Total data: {}'.format(len(X_train_num)))\n",
        "print('(right end outliers) : {}'.format(len(X_train_num[X_train_num['limit_balance'] > upper_limit])))\n",
        "print('(left end outliers.  : {}'.format(len(X_train_num[X_train_num['limit_balance'] < lower_limit])))\n",
        "print('')\n",
        "print('% right end outliers : {}'.format(len(X_train_num[X_train_num['limit_balance'] > upper_limit]) / len(X_train_num) * 100))\n",
        "print('% left end outliers  : {}'.format(len(X_train_num[X_train_num['limit_balance'] < lower_limit]) / len(X_train_num) * 100))"
      ]
    },
    {
      "cell_type": "markdown",
      "metadata": {
        "id": "2R0pXrHGgXqv"
      },
      "source": [
        "setelah dilakukan pengecekan outlier yang terdeteksi ada di angka 4.2 %"
      ]
    },
    {
      "cell_type": "markdown",
      "metadata": {
        "id": "HPni0b6mVFu1"
      },
      "source": [
        "## Modeling and Defining The Pipeline"
      ]
    },
    {
      "cell_type": "code",
      "execution_count": 26,
      "metadata": {
        "id": "yj-bRSED15d2"
      },
      "outputs": [],
      "source": [
        "numeric_features = [\"pay_0\",\"pay_2\",\"pay_3\",\"pay_amt_4\",\"pay_amt_5\",\"pay_amt_6\"]\n",
        "numeric_features2 = [\"limit_balance\",\"education_level\"]\n",
        "\n",
        "numeric_transformer_mms = Pipeline([(\"scaler\", MinMaxScaler())])\n",
        "\n",
        "numeric_transformer_sc = Pipeline([(\"scaler2\", StandardScaler())])\n",
        "\n",
        "preprocessor = ColumnTransformer(\n",
        "    transformers=[\n",
        "        (\"num1\", numeric_transformer_mms, numeric_features),\n",
        "        (\"num2\", numeric_transformer_sc, numeric_features2),\n",
        "    ]\n",
        ")"
      ]
    },
    {
      "cell_type": "markdown",
      "metadata": {
        "id": "UtxvSRskV-pv"
      },
      "source": [
        "## Logistic Regression"
      ]
    },
    {
      "cell_type": "markdown",
      "metadata": {
        "id": "eXIl3BBh2bp3"
      },
      "source": [
        "Logistic regression adalah salah satu model machine learning yang seringkali digunakan untuk klasifikasi dan prediktif analysis. Logistic regression melakukan estimasi probabilitas pada sebuah kejadian seperti apakah seseorang akan keluar saat weekend atau tidak, dimana estimasi tersebut di dasarkan pada variable independent yang tersedia pada dataset. Selama outcome yang di hasilkan adalah sebuah probabilitas nilai dari variabel dependent ada pada range 0 sampai 1."
      ]
    },
    {
      "cell_type": "code",
      "execution_count": 27,
      "metadata": {
        "colab": {
          "base_uri": "https://localhost:8080/"
        },
        "id": "ayaRWgZkVQWN",
        "outputId": "4f933df2-8ee1-4d94-eb4c-078e81df50b4"
      },
      "outputs": [
        {
          "data": {
            "text/plain": [
              "Pipeline(steps=[('prep',\n",
              "                 ColumnTransformer(transformers=[('num1',\n",
              "                                                  Pipeline(steps=[('scaler',\n",
              "                                                                   MinMaxScaler())]),\n",
              "                                                  ['pay_0', 'pay_2', 'pay_3',\n",
              "                                                   'pay_amt_4', 'pay_amt_5',\n",
              "                                                   'pay_amt_6']),\n",
              "                                                 ('num2',\n",
              "                                                  Pipeline(steps=[('scaler2',\n",
              "                                                                   StandardScaler())]),\n",
              "                                                  ['limit_balance',\n",
              "                                                   'education_level'])])),\n",
              "                ('Logistic', LogisticRegression())])"
            ]
          },
          "execution_count": 27,
          "metadata": {},
          "output_type": "execute_result"
        }
      ],
      "source": [
        "pipe = Pipeline([(\"prep\", preprocessor), (\"Logistic\", LogisticRegression())])\n",
        "pipe.fit(X_train,y_train)"
      ]
    },
    {
      "cell_type": "markdown",
      "metadata": {
        "id": "1abuQi_uVZPr"
      },
      "source": [
        "### Model Evaluation Logistic Regression"
      ]
    },
    {
      "cell_type": "code",
      "execution_count": 28,
      "metadata": {
        "id": "5zQ9y-IUVQSZ"
      },
      "outputs": [],
      "source": [
        "y_train_pred=pipe.predict(X_train)\n",
        "y_test_pred=pipe.predict(X_test)"
      ]
    },
    {
      "cell_type": "code",
      "execution_count": 29,
      "metadata": {
        "colab": {
          "base_uri": "https://localhost:8080/"
        },
        "id": "IZYn399PVQPt",
        "outputId": "a190a650-9bf3-4970-9c2e-c91fc44f2c9a"
      },
      "outputs": [
        {
          "name": "stdout",
          "output_type": "stream",
          "text": [
            "accuracy score train :  0.8138747884940778\n",
            "accuracy score test :  0.8206429780033841\n"
          ]
        }
      ],
      "source": [
        "print('accuracy score train : ',accuracy_score(y_train,y_train_pred))\n",
        "print('accuracy score test : ',accuracy_score(y_test,y_test_pred))"
      ]
    },
    {
      "cell_type": "markdown",
      "metadata": {
        "id": "XwiGpCgxMZmc"
      },
      "source": [
        "## Cross Validation for Logistic Regression"
      ]
    },
    {
      "cell_type": "code",
      "execution_count": 30,
      "metadata": {
        "colab": {
          "base_uri": "https://localhost:8080/"
        },
        "id": "iage0SYqMY1J",
        "outputId": "7635aa0b-9312-4db8-9770-33838953142f"
      },
      "outputs": [
        {
          "name": "stdout",
          "output_type": "stream",
          "text": [
            "0.7931452478009011\n"
          ]
        }
      ],
      "source": [
        "LogReg = LogisticRegression()\n",
        "print(cross_val_score(LogReg, X_train, y_train, cv=10, scoring='accuracy').mean())"
      ]
    },
    {
      "cell_type": "code",
      "execution_count": 31,
      "metadata": {
        "colab": {
          "base_uri": "https://localhost:8080/"
        },
        "id": "CSDq8X1LjEF5",
        "outputId": "1ef6472a-c2bd-4db8-84ed-40418c4102d2"
      },
      "outputs": [
        {
          "name": "stdout",
          "output_type": "stream",
          "text": [
            "0.013314581855509799\n"
          ]
        }
      ],
      "source": [
        "LogReg = LogisticRegression()\n",
        "print(cross_val_score(LogReg, X_train, y_train, cv=10, scoring='accuracy').std())"
      ]
    },
    {
      "cell_type": "markdown",
      "metadata": {
        "id": "7ZAHZJ8Zk1qm"
      },
      "source": [
        "Berdasarkan pengecekan model logred dengan cross validation di dapat standard deviation terbaiknya adalah 0.001227339953032019."
      ]
    },
    {
      "cell_type": "markdown",
      "metadata": {
        "id": "yk4UKJMVNdZr"
      },
      "source": [
        "Secara default cross validation dilakukan sebanyak 5 kali namun pada bagian ini cv di setup sebanyak 10 kali untuk melihat hasil terbaiknya dan di dapat angka akurasi 0.78"
      ]
    },
    {
      "cell_type": "markdown",
      "metadata": {
        "id": "kCFp0cMMWChv"
      },
      "source": [
        "## Support Vector Classifier"
      ]
    },
    {
      "cell_type": "markdown",
      "metadata": {},
      "source": [
        "Support vector classifier adalah model machine learning yang bekerja dengan menggunakan hyperplane untuk melakukan klasifikasi pada pada sebuah persebaran data. Support vector classifier sendiri memiliki beberapa paramater yang dapat disesuaikan bergantung dengan persebaran datanya. Salah satu parameter yang paling sering digunakan adalah kernel, pada hyperparameter ini dapat disesuaikan jika persebaran datanya tidak linear biasanya kernel yang digunakan adalah tipe poly namun jika persebaran datanya linear tipe kernel yang digunakan adalah rbf. Paramater lain yang bisanya sering digunakan adalah degree yang secara default angkanya 3 namun ini jika tipe kernel yang digunakan adalah polynomial. Kekurangan yang perlu di perhatikan pada penggunaam model ini adalah waktu komputasinya yang cukup lama."
      ]
    },
    {
      "cell_type": "code",
      "execution_count": 32,
      "metadata": {
        "colab": {
          "base_uri": "https://localhost:8080/"
        },
        "id": "J0vczYkRVQNA",
        "outputId": "ed7ad2f6-18e4-4194-8d6a-a0cbaa4f1439"
      },
      "outputs": [
        {
          "data": {
            "text/plain": [
              "Pipeline(steps=[('prep',\n",
              "                 ColumnTransformer(transformers=[('num1',\n",
              "                                                  Pipeline(steps=[('scaler',\n",
              "                                                                   MinMaxScaler())]),\n",
              "                                                  ['pay_0', 'pay_2', 'pay_3',\n",
              "                                                   'pay_amt_4', 'pay_amt_5',\n",
              "                                                   'pay_amt_6']),\n",
              "                                                 ('num2',\n",
              "                                                  Pipeline(steps=[('scaler2',\n",
              "                                                                   StandardScaler())]),\n",
              "                                                  ['limit_balance',\n",
              "                                                   'education_level'])])),\n",
              "                ('SVM', SVC())])"
            ]
          },
          "execution_count": 32,
          "metadata": {},
          "output_type": "execute_result"
        }
      ],
      "source": [
        "pipe = Pipeline([(\"prep\", preprocessor), (\"SVM\", SVC())])\n",
        "pipe.fit(X_train,y_train)"
      ]
    },
    {
      "cell_type": "markdown",
      "metadata": {
        "id": "R2ltjA3-WICn"
      },
      "source": [
        "## Model Evaluation Support Vector Classifier"
      ]
    },
    {
      "cell_type": "code",
      "execution_count": 33,
      "metadata": {
        "id": "D8AsoXavVQJR"
      },
      "outputs": [],
      "source": [
        "y_train_pred=pipe.predict(X_train)\n",
        "y_test_pred=pipe.predict(X_test)"
      ]
    },
    {
      "cell_type": "code",
      "execution_count": 34,
      "metadata": {
        "colab": {
          "base_uri": "https://localhost:8080/"
        },
        "id": "H7IUHNFBVQF4",
        "outputId": "b7bf2ef4-1953-43eb-ca2e-5d33035b379f"
      },
      "outputs": [
        {
          "name": "stdout",
          "output_type": "stream",
          "text": [
            "accuracy score train :  0.8286802030456852\n",
            "accuracy score test :  0.817258883248731\n"
          ]
        }
      ],
      "source": [
        "print('accuracy score train : ',accuracy_score(y_train,y_train_pred))\n",
        "print('accuracy score test : ',accuracy_score(y_test,y_test_pred))"
      ]
    },
    {
      "cell_type": "markdown",
      "metadata": {
        "id": "ltOi4JHPOaGd"
      },
      "source": [
        "## Cross Validation for SVC"
      ]
    },
    {
      "cell_type": "code",
      "execution_count": 35,
      "metadata": {
        "colab": {
          "base_uri": "https://localhost:8080/"
        },
        "id": "cdWVPXtNOZgE",
        "outputId": "009f3254-719e-49b6-9cd8-9157c015220a"
      },
      "outputs": [
        {
          "name": "stdout",
          "output_type": "stream",
          "text": [
            "0.7846867624973182\n"
          ]
        }
      ],
      "source": [
        "SVMC = SVC()\n",
        "print(cross_val_score(SVMC, X_train, y_train, cv=10, scoring='accuracy').mean())"
      ]
    },
    {
      "cell_type": "code",
      "execution_count": 36,
      "metadata": {
        "colab": {
          "base_uri": "https://localhost:8080/"
        },
        "id": "lqsxkhAJlL_e",
        "outputId": "d2a6621c-d898-4264-d36f-bf2edc33d742"
      },
      "outputs": [
        {
          "name": "stdout",
          "output_type": "stream",
          "text": [
            "0.001227339953032019\n"
          ]
        }
      ],
      "source": [
        "SVMC = SVC()\n",
        "print(cross_val_score(SVMC, X_train, y_train, cv=10, scoring='accuracy').std())"
      ]
    },
    {
      "cell_type": "markdown",
      "metadata": {
        "id": "Hcnm3XEsWpi1"
      },
      "source": [
        "## Model KNN"
      ]
    },
    {
      "cell_type": "markdown",
      "metadata": {
        "id": "NeotblCb2VwX"
      },
      "source": [
        "Model K-Nearest neighbor adalah salah satu model machine learning yang diguanakan untuk melakukan klasifikasi. Cara kerja model KNN adalah dengan mencari nilai terdekatnya untuk di masukkan ke dalam kelas yang sama. Kekurangan dari model ini terletak pada cara model ini bekerja, karena bisa saja ada secara jarak data tersebut masuk ke dalam kelas 1 namun secara karakteristik data tersebut seharusnya masuk ke dalam kelas 2. Model ini juga memiliki hyperparameter yang dapat di sesuaikan dengan kebutuhan misalnya neighbornya bisa ditentukan biasanya angka yang di pilih adalah ganjil."
      ]
    },
    {
      "cell_type": "code",
      "execution_count": 37,
      "metadata": {
        "colab": {
          "base_uri": "https://localhost:8080/"
        },
        "id": "ilv3RJ-pVQDp",
        "outputId": "f20fb8a2-4447-4275-be79-9ffc45fb0a29"
      },
      "outputs": [
        {
          "data": {
            "text/plain": [
              "Pipeline(steps=[('prep',\n",
              "                 ColumnTransformer(transformers=[('num1',\n",
              "                                                  Pipeline(steps=[('scaler',\n",
              "                                                                   MinMaxScaler())]),\n",
              "                                                  ['pay_0', 'pay_2', 'pay_3',\n",
              "                                                   'pay_amt_4', 'pay_amt_5',\n",
              "                                                   'pay_amt_6']),\n",
              "                                                 ('num2',\n",
              "                                                  Pipeline(steps=[('scaler2',\n",
              "                                                                   StandardScaler())]),\n",
              "                                                  ['limit_balance',\n",
              "                                                   'education_level'])])),\n",
              "                ('KNN', KNeighborsClassifier())])"
            ]
          },
          "execution_count": 37,
          "metadata": {},
          "output_type": "execute_result"
        }
      ],
      "source": [
        "pipe = Pipeline([(\"prep\", preprocessor), (\"KNN\", KNeighborsClassifier())])\n",
        "pipe.fit(X_train,y_train)"
      ]
    },
    {
      "cell_type": "code",
      "execution_count": 38,
      "metadata": {
        "id": "uZ5yvOlnVP_2"
      },
      "outputs": [],
      "source": [
        "y_train_pred=pipe.predict(X_train)\n",
        "y_test_pred=pipe.predict(X_test)"
      ]
    },
    {
      "cell_type": "code",
      "execution_count": 39,
      "metadata": {
        "colab": {
          "base_uri": "https://localhost:8080/"
        },
        "id": "Zpatc0suVP9t",
        "outputId": "b280efc4-291e-4cf6-aa23-e1829db4ef27"
      },
      "outputs": [
        {
          "name": "stdout",
          "output_type": "stream",
          "text": [
            "accuracy score train :  0.8574450084602369\n",
            "accuracy score test :  0.8155668358714044\n"
          ]
        }
      ],
      "source": [
        "print('accuracy score train : ',accuracy_score(y_train,y_train_pred))\n",
        "print('accuracy score test : ',accuracy_score(y_test,y_test_pred))"
      ]
    },
    {
      "cell_type": "markdown",
      "metadata": {
        "id": "qVUnsMkJR68U"
      },
      "source": [
        "## Cross Validation for KNN Model"
      ]
    },
    {
      "cell_type": "code",
      "execution_count": 40,
      "metadata": {
        "colab": {
          "base_uri": "https://localhost:8080/"
        },
        "id": "Lmy9q0KzR_oN",
        "outputId": "9ddf9906-ec25-4389-bc9f-82402aa219af"
      },
      "outputs": [
        {
          "name": "stdout",
          "output_type": "stream",
          "text": [
            "0.7576289065293571\n"
          ]
        }
      ],
      "source": [
        "KnnClassifier = KNeighborsClassifier()\n",
        "print(cross_val_score(KnnClassifier, X_train, y_train, cv=10, scoring='accuracy').mean())"
      ]
    },
    {
      "cell_type": "code",
      "execution_count": 41,
      "metadata": {
        "colab": {
          "base_uri": "https://localhost:8080/"
        },
        "id": "0MiqYYq6l4uG",
        "outputId": "e0b73512-3108-48d0-9f18-3fd3df61df68"
      },
      "outputs": [
        {
          "name": "stdout",
          "output_type": "stream",
          "text": [
            "0.02500809052441026\n"
          ]
        }
      ],
      "source": [
        "KnnClassifier = KNeighborsClassifier()\n",
        "print(cross_val_score(KnnClassifier, X_train, y_train, cv=10, scoring='accuracy').std())"
      ]
    },
    {
      "cell_type": "markdown",
      "metadata": {
        "id": "xhtjLPDyCmbL"
      },
      "source": [
        "## Gaussian Naive Bias"
      ]
    },
    {
      "cell_type": "markdown",
      "metadata": {
        "id": "lGz9RLXOUQmw"
      },
      "source": [
        "Naive Bias theorm adalah teori yang menghitung probabilitas dari kejadian A yang terjadi di bagi dengan probabilitas kejadian B. Kekurangan model ini adalah pada masalah probabilitas. Naive Bayes memiliki masalah probabilitas nol. Salah satu hyperparamater yang bisa digunakan pada model ini adalah  var_smoothing yang secara default ada di angak 1e-09."
      ]
    },
    {
      "cell_type": "code",
      "execution_count": 42,
      "metadata": {
        "colab": {
          "base_uri": "https://localhost:8080/"
        },
        "id": "HrjnUq2pVP5x",
        "outputId": "55fd5d9b-2d49-41f3-8e52-7afeb568c4b7"
      },
      "outputs": [
        {
          "data": {
            "text/plain": [
              "Pipeline(steps=[('prep',\n",
              "                 ColumnTransformer(transformers=[('num1',\n",
              "                                                  Pipeline(steps=[('scaler',\n",
              "                                                                   MinMaxScaler())]),\n",
              "                                                  ['pay_0', 'pay_2', 'pay_3',\n",
              "                                                   'pay_amt_4', 'pay_amt_5',\n",
              "                                                   'pay_amt_6']),\n",
              "                                                 ('num2',\n",
              "                                                  Pipeline(steps=[('scaler2',\n",
              "                                                                   StandardScaler())]),\n",
              "                                                  ['limit_balance',\n",
              "                                                   'education_level'])])),\n",
              "                ('Naive Bias', GaussianNB())])"
            ]
          },
          "execution_count": 42,
          "metadata": {},
          "output_type": "execute_result"
        }
      ],
      "source": [
        "pipe = Pipeline([(\"prep\", preprocessor), (\"Naive Bias\", GaussianNB())])\n",
        "pipe.fit(X_train,y_train)"
      ]
    },
    {
      "cell_type": "code",
      "execution_count": 43,
      "metadata": {
        "id": "Yqzc2TuvVP2y"
      },
      "outputs": [],
      "source": [
        "y_train_pred=pipe.predict(X_train)\n",
        "y_test_pred=pipe.predict(X_test)"
      ]
    },
    {
      "cell_type": "code",
      "execution_count": 44,
      "metadata": {
        "colab": {
          "base_uri": "https://localhost:8080/"
        },
        "id": "GaSwQh_rU_rU",
        "outputId": "fea7de94-50c1-4f43-d402-e9e70c8003b6"
      },
      "outputs": [
        {
          "name": "stdout",
          "output_type": "stream",
          "text": [
            "accuracy score train :  0.7284263959390863\n",
            "accuracy score test :  0.7326565143824028\n"
          ]
        }
      ],
      "source": [
        "print('accuracy score train : ',accuracy_score(y_train,y_train_pred))\n",
        "print('accuracy score test : ',accuracy_score(y_test,y_test_pred))"
      ]
    },
    {
      "cell_type": "markdown",
      "metadata": {
        "id": "vDgvx-6BShsB"
      },
      "source": [
        "## Cross Validation for Gaussian Naive Bias"
      ]
    },
    {
      "cell_type": "code",
      "execution_count": 45,
      "metadata": {
        "colab": {
          "base_uri": "https://localhost:8080/"
        },
        "id": "eFL2cK6-SmGv",
        "outputId": "dab1b63f-9f73-4df4-9f29-51bf595ac2b8"
      },
      "outputs": [
        {
          "name": "stdout",
          "output_type": "stream",
          "text": [
            "0.4115854966745334\n"
          ]
        }
      ],
      "source": [
        "NaiveBias = GaussianNB(priors=None, var_smoothing=1e-09)\n",
        "print(cross_val_score(NaiveBias, X_train, y_train, cv=10, scoring='accuracy').mean())"
      ]
    },
    {
      "cell_type": "code",
      "execution_count": 46,
      "metadata": {
        "colab": {
          "base_uri": "https://localhost:8080/"
        },
        "id": "OICfM2FCmANc",
        "outputId": "ac5b35ef-86ca-430d-c8e6-80ea66c64782"
      },
      "outputs": [
        {
          "name": "stdout",
          "output_type": "stream",
          "text": [
            "0.03872602112118586\n"
          ]
        }
      ],
      "source": [
        "NaiveBias = GaussianNB(priors=None, var_smoothing=1e-09)\n",
        "print(cross_val_score(NaiveBias, X_train, y_train, cv=10, scoring='accuracy').std())"
      ]
    },
    {
      "cell_type": "markdown",
      "metadata": {
        "id": "hRU5h1v4C4HM"
      },
      "source": [
        "## Model Decision Tree"
      ]
    },
    {
      "cell_type": "markdown",
      "metadata": {
        "id": "2YO-4noC2Jqn"
      },
      "source": [
        "Model decision tree adalah suatu binary tree yang akan terus melakukan split pada data sampai node leaf atau sampai gini impurity nya 0 atau bisa juga dikatakan sampai mencapai purity."
      ]
    },
    {
      "cell_type": "code",
      "execution_count": 47,
      "metadata": {
        "colab": {
          "base_uri": "https://localhost:8080/"
        },
        "id": "IZpBKcZyU_nU",
        "outputId": "b16bddf0-ef34-4021-8dd2-d16ff59d7f99"
      },
      "outputs": [
        {
          "data": {
            "text/plain": [
              "Pipeline(steps=[('prep',\n",
              "                 ColumnTransformer(transformers=[('num1',\n",
              "                                                  Pipeline(steps=[('scaler',\n",
              "                                                                   MinMaxScaler())]),\n",
              "                                                  ['pay_0', 'pay_2', 'pay_3',\n",
              "                                                   'pay_amt_4', 'pay_amt_5',\n",
              "                                                   'pay_amt_6']),\n",
              "                                                 ('num2',\n",
              "                                                  Pipeline(steps=[('scaler2',\n",
              "                                                                   StandardScaler())]),\n",
              "                                                  ['limit_balance',\n",
              "                                                   'education_level'])])),\n",
              "                ('Decision Tree Classifier', DecisionTreeClassifier())])"
            ]
          },
          "execution_count": 47,
          "metadata": {},
          "output_type": "execute_result"
        }
      ],
      "source": [
        "pipe = Pipeline([(\"prep\", preprocessor), (\"Decision Tree Classifier\", DecisionTreeClassifier())])\n",
        "pipe.fit(X_train,y_train)"
      ]
    },
    {
      "cell_type": "code",
      "execution_count": 48,
      "metadata": {
        "id": "ya_9ckrvC-wH"
      },
      "outputs": [],
      "source": [
        "y_train_pred=pipe.predict(X_train)\n",
        "y_test_pred=pipe.predict(X_test)"
      ]
    },
    {
      "cell_type": "code",
      "execution_count": 49,
      "metadata": {
        "colab": {
          "base_uri": "https://localhost:8080/"
        },
        "id": "ZdAvXWU9DDik",
        "outputId": "5e5e80c5-d86c-43cc-9f30-83400d92a570"
      },
      "outputs": [
        {
          "name": "stdout",
          "output_type": "stream",
          "text": [
            "accuracy score train :  0.9949238578680203\n",
            "accuracy score test :  0.7208121827411168\n"
          ]
        }
      ],
      "source": [
        "print('accuracy score train : ',accuracy_score(y_train,y_train_pred))\n",
        "print('accuracy score test : ',accuracy_score(y_test,y_test_pred))"
      ]
    },
    {
      "cell_type": "markdown",
      "metadata": {
        "id": "GUeZBE82S-JM"
      },
      "source": [
        "## Cross Validation Model Decision Tree"
      ]
    },
    {
      "cell_type": "code",
      "execution_count": 50,
      "metadata": {
        "colab": {
          "base_uri": "https://localhost:8080/"
        },
        "id": "UZa3jWlTTFyk",
        "outputId": "ff4b403f-8b95-4606-a123-dfdd4ac8e6a7"
      },
      "outputs": [
        {
          "name": "stdout",
          "output_type": "stream",
          "text": [
            "0.7478992347850962\n"
          ]
        }
      ],
      "source": [
        "DecisionTreeClass = DecisionTreeClassifier()\n",
        "print(cross_val_score(DecisionTreeClass, X_train, y_train, cv=10, scoring='accuracy').mean())"
      ]
    },
    {
      "cell_type": "code",
      "execution_count": 51,
      "metadata": {
        "colab": {
          "base_uri": "https://localhost:8080/"
        },
        "id": "v7KQCNIhmQ-2",
        "outputId": "3f978768-ca28-4817-ff1c-25cc52ea4c3a"
      },
      "outputs": [
        {
          "name": "stdout",
          "output_type": "stream",
          "text": [
            "0.029984934407684335\n"
          ]
        }
      ],
      "source": [
        "DecisionTreeClass = DecisionTreeClassifier()\n",
        "print(cross_val_score(DecisionTreeClass, X_train, y_train, cv=10, scoring='accuracy').std())"
      ]
    },
    {
      "cell_type": "markdown",
      "metadata": {
        "id": "yY-9ibl9DI9C"
      },
      "source": [
        "## Bagging Classifiers"
      ]
    },
    {
      "cell_type": "markdown",
      "metadata": {
        "id": "hoU60i4R2FBg"
      },
      "source": [
        "Bagging adalah sebuah teknik untuk meningkatkan akurasi prediksi suatu model pada algortima supervised learning. Ide dasar dari begging classifier adalah dengan melakukan train pada sejumlah model machine learning berdasarkan dataset yang dipilih secara acak dari train data dan model ini akan melakukan voting berdasarkan model-model yang dibangun dari data train yang di ambil secara acak. Bebeda dengan boosting cara kerja model ini adalah dengan melakukan evaluasi pada setiap model yang datanya di ambil secara acak dari train dan model secara simultaniously berjalan untuk memberikan hasil prediksi. Hasil prediksi yang di dapat dari model ini di ambil berdasarkan voting. Mislanya dari lima model output yang paling banyak adalah 1 maka 1 akan dijadikan sebagai hasil prediksi dari begging classifiers\n",
        "\n",
        "Kelebihan utama dari bagging classifier adalah model ini dapat menurunkan variance dari sebuah model prediksi algoritma supervised machine learning tanpa secara signifikan menurunkan tingkat akurasinya."
      ]
    },
    {
      "cell_type": "code",
      "execution_count": 52,
      "metadata": {
        "colab": {
          "base_uri": "https://localhost:8080/"
        },
        "id": "Yvc7zrdMDIoT",
        "outputId": "6936d7a8-4299-41af-9138-35baa4b44654"
      },
      "outputs": [
        {
          "data": {
            "text/plain": [
              "Pipeline(steps=[('prep',\n",
              "                 ColumnTransformer(transformers=[('num1',\n",
              "                                                  Pipeline(steps=[('scaler',\n",
              "                                                                   MinMaxScaler())]),\n",
              "                                                  ['pay_0', 'pay_2', 'pay_3',\n",
              "                                                   'pay_amt_4', 'pay_amt_5',\n",
              "                                                   'pay_amt_6']),\n",
              "                                                 ('num2',\n",
              "                                                  Pipeline(steps=[('scaler2',\n",
              "                                                                   StandardScaler())]),\n",
              "                                                  ['limit_balance',\n",
              "                                                   'education_level'])])),\n",
              "                ('Bagging Classifiers', BaggingClassifier())])"
            ]
          },
          "execution_count": 52,
          "metadata": {},
          "output_type": "execute_result"
        }
      ],
      "source": [
        "pipe = Pipeline([(\"prep\", preprocessor), (\"Bagging Classifiers\", BaggingClassifier())])\n",
        "pipe.fit(X_train,y_train)"
      ]
    },
    {
      "cell_type": "code",
      "execution_count": 53,
      "metadata": {
        "id": "vUBE_e5nDMoU"
      },
      "outputs": [],
      "source": [
        "bag_clf_pred = pipe.predict(X_test)\n",
        "bag_clf_pred_train = pipe.predict(X_train)"
      ]
    },
    {
      "cell_type": "code",
      "execution_count": 54,
      "metadata": {
        "colab": {
          "base_uri": "https://localhost:8080/"
        },
        "id": "DWlHzliLEYb4",
        "outputId": "f9003b38-f703-414b-b7a7-3e7ad3837c9b"
      },
      "outputs": [
        {
          "name": "stdout",
          "output_type": "stream",
          "text": [
            "accuracy score train :  0.9949238578680203\n",
            "accuracy score test :  0.7208121827411168\n"
          ]
        }
      ],
      "source": [
        "print('accuracy score train : ',accuracy_score(y_train,y_train_pred))\n",
        "print('accuracy score test : ',accuracy_score(y_test,y_test_pred))"
      ]
    },
    {
      "cell_type": "markdown",
      "metadata": {
        "id": "WpDdtSBBTm84"
      },
      "source": [
        "## Cross Validation For Bagging Classifier"
      ]
    },
    {
      "cell_type": "code",
      "execution_count": 55,
      "metadata": {
        "colab": {
          "base_uri": "https://localhost:8080/"
        },
        "id": "FWdl9RgwTqse",
        "outputId": "4eb6236b-74e2-4c55-c1ff-47ee84ac0b24"
      },
      "outputs": [
        {
          "name": "stdout",
          "output_type": "stream",
          "text": [
            "0.815576056640206\n"
          ]
        }
      ],
      "source": [
        "BaggClass = BaggingClassifier()\n",
        "print(cross_val_score(BaggClass, X_train, y_train, cv=10, scoring='accuracy').mean())"
      ]
    },
    {
      "cell_type": "code",
      "execution_count": 56,
      "metadata": {
        "colab": {
          "base_uri": "https://localhost:8080/"
        },
        "id": "EBkn8fMSmXll",
        "outputId": "a5b64132-ad77-487f-e721-74882346f1c8"
      },
      "outputs": [
        {
          "name": "stdout",
          "output_type": "stream",
          "text": [
            "0.0226402026369705\n"
          ]
        }
      ],
      "source": [
        "BaggClass = BaggingClassifier(n_estimators=20)\n",
        "print(cross_val_score(BaggClass, X_train, y_train, cv=10, scoring='accuracy').std())"
      ]
    },
    {
      "cell_type": "markdown",
      "metadata": {
        "id": "P_lhSOpYvqF_"
      },
      "source": [
        "## ADA Boost with LogReg Base Estimator"
      ]
    },
    {
      "cell_type": "markdown",
      "metadata": {},
      "source": [
        "Metode AdaBoost merupakan salah satu algoritma supervised pada data mining yang diterapakan secara luas untuk membuat model klasifikasi. ADA boost sendiri adalah suato model boosting yang base estimatornya dapat di kolaborasikan dengan model machine learning lainya seperti support vector classifier."
      ]
    },
    {
      "cell_type": "code",
      "execution_count": 57,
      "metadata": {
        "colab": {
          "base_uri": "https://localhost:8080/"
        },
        "id": "Jr8Zh3qxvut-",
        "outputId": "9732032f-d69d-4f3c-e2cf-4dfae9f94ed8"
      },
      "outputs": [
        {
          "data": {
            "text/plain": [
              "Pipeline(steps=[('prep',\n",
              "                 ColumnTransformer(transformers=[('num1',\n",
              "                                                  Pipeline(steps=[('scaler',\n",
              "                                                                   MinMaxScaler())]),\n",
              "                                                  ['pay_0', 'pay_2', 'pay_3',\n",
              "                                                   'pay_amt_4', 'pay_amt_5',\n",
              "                                                   'pay_amt_6']),\n",
              "                                                 ('num2',\n",
              "                                                  Pipeline(steps=[('scaler2',\n",
              "                                                                   StandardScaler())]),\n",
              "                                                  ['limit_balance',\n",
              "                                                   'education_level'])])),\n",
              "                ('ADA Boost Classifier Logreg',\n",
              "                 AdaBoostClassifier(base_estimator=LogisticRegression()))])"
            ]
          },
          "execution_count": 57,
          "metadata": {},
          "output_type": "execute_result"
        }
      ],
      "source": [
        "pipe = Pipeline([(\"prep\", preprocessor), (\"ADA Boost Classifier Logreg\", AdaBoostClassifier(base_estimator=LogisticRegression()))])\n",
        "pipe.fit(X_train,y_train)"
      ]
    },
    {
      "cell_type": "code",
      "execution_count": 58,
      "metadata": {
        "id": "Aoc4GrdovuO7"
      },
      "outputs": [],
      "source": [
        "ada_clf_pred = pipe.predict(X_test)\n",
        "ada_clf_pred_train = pipe.predict(X_train)"
      ]
    },
    {
      "cell_type": "code",
      "execution_count": 59,
      "metadata": {
        "colab": {
          "base_uri": "https://localhost:8080/"
        },
        "id": "W272JQRav8wY",
        "outputId": "1c61d537-e228-4c33-b9b6-ff136b18147d"
      },
      "outputs": [
        {
          "name": "stdout",
          "output_type": "stream",
          "text": [
            "0.7918781725888325\n",
            "0.7846869712351946\n"
          ]
        }
      ],
      "source": [
        "print(accuracy_score(y_test,ada_clf_pred))\n",
        "print(accuracy_score(y_train,ada_clf_pred_train))"
      ]
    },
    {
      "cell_type": "markdown",
      "metadata": {
        "id": "MRe-UBdYRmMy"
      },
      "source": [
        "## Cross Validation ADA Boost with logreg as base estimator"
      ]
    },
    {
      "cell_type": "code",
      "execution_count": 60,
      "metadata": {
        "colab": {
          "base_uri": "https://localhost:8080/"
        },
        "id": "bR5f3Ud1Rl2r",
        "outputId": "7b7f61bc-6959-49ef-a3d6-3bbd27b8b1d0"
      },
      "outputs": [
        {
          "name": "stdout",
          "output_type": "stream",
          "text": [
            "0.8007526997067869\n"
          ]
        }
      ],
      "source": [
        "ADAboostLog = AdaBoostClassifier(base_estimator=LogisticRegression())\n",
        "print(cross_val_score(ADAboostLog, X_train, y_train, cv=10, scoring='accuracy').mean())"
      ]
    },
    {
      "cell_type": "code",
      "execution_count": 61,
      "metadata": {
        "colab": {
          "base_uri": "https://localhost:8080/"
        },
        "id": "8_EMSguwRlre",
        "outputId": "562b735b-6a30-41a9-9cf3-db47f4628903"
      },
      "outputs": [
        {
          "name": "stdout",
          "output_type": "stream",
          "text": [
            "0.013709548349141575\n"
          ]
        }
      ],
      "source": [
        "ADAboostLog = AdaBoostClassifier(base_estimator=LogisticRegression())\n",
        "print(cross_val_score(ADAboostLog, X_train, y_train, cv=10, scoring='accuracy').std())"
      ]
    },
    {
      "cell_type": "markdown",
      "metadata": {
        "id": "KcL127IYv_vq"
      },
      "source": [
        "## Gradient Boosting Classifier"
      ]
    },
    {
      "cell_type": "markdown",
      "metadata": {
        "id": "oxOR3WUH1_Rx"
      },
      "source": [
        "Gradient boosting adalah model machine learing yang mengkombinasikan model machine learning yang secara default di setup pada depth sama dengan satu sebagai weak learner dan nantinya error pada model pertama akan di evaluasi pada model selanjutnya. Pada Gradient boostig terdapat hyperparameter yang dapat di setup untuk meningkatkan akurasi atau bisa jadi malah menurunkan akurasi, hyperparamater tersebut adalah learning rate. Secara default adalah 0.1 dan maksimal adalah 1 dan learning rate tidak bisa negatif. Kekurangan model ini sama seperti kebanyakan model decision tree lainya yang hasil prediksinya cenderung overfit ini adalah kondisi dimana akurasi train lebih tinggi di banding akurasi test. Cara yang biasa digunakan untuk meminimalkan masalah overfitting pada model ini adalah dengan melakukan penyesuaian pada hyperparameter ccp_alpha. CCP alpha atau biasa yang disebut cost of complexity pruning akan bekerja memotong cabang dari splitting node tertentu."
      ]
    },
    {
      "cell_type": "code",
      "execution_count": 62,
      "metadata": {
        "colab": {
          "base_uri": "https://localhost:8080/"
        },
        "id": "DrAvDjG1wMUt",
        "outputId": "cd155f2c-cf7e-4579-c077-a9b076d1b4a3"
      },
      "outputs": [
        {
          "data": {
            "text/plain": [
              "Pipeline(steps=[('prep',\n",
              "                 ColumnTransformer(transformers=[('num1',\n",
              "                                                  Pipeline(steps=[('scaler',\n",
              "                                                                   MinMaxScaler())]),\n",
              "                                                  ['pay_0', 'pay_2', 'pay_3',\n",
              "                                                   'pay_amt_4', 'pay_amt_5',\n",
              "                                                   'pay_amt_6']),\n",
              "                                                 ('num2',\n",
              "                                                  Pipeline(steps=[('scaler2',\n",
              "                                                                   StandardScaler())]),\n",
              "                                                  ['limit_balance',\n",
              "                                                   'education_level'])])),\n",
              "                ('Gradient Boosting', GradientBoostingClassifier())])"
            ]
          },
          "execution_count": 62,
          "metadata": {},
          "output_type": "execute_result"
        }
      ],
      "source": [
        "pipe = Pipeline([(\"prep\", preprocessor), (\"Gradient Boosting\", GradientBoostingClassifier())])\n",
        "pipe.fit(X_train,y_train)"
      ]
    },
    {
      "cell_type": "code",
      "execution_count": 63,
      "metadata": {
        "id": "v05OxdICwVGz"
      },
      "outputs": [],
      "source": [
        "ada_clf_pred = pipe.predict(X_test)\n",
        "ada_clf_pred_train = pipe.predict(X_train)"
      ]
    },
    {
      "cell_type": "code",
      "execution_count": 64,
      "metadata": {
        "colab": {
          "base_uri": "https://localhost:8080/"
        },
        "id": "Dev7XhLlwZHk",
        "outputId": "a3f6118d-eded-4c29-a70e-5a8e3b1c9f46"
      },
      "outputs": [
        {
          "name": "stdout",
          "output_type": "stream",
          "text": [
            "0.8257191201353637\n",
            "0.8633671742808798\n"
          ]
        }
      ],
      "source": [
        "print(accuracy_score(y_test,ada_clf_pred))\n",
        "print(accuracy_score(y_train,ada_clf_pred_train))"
      ]
    },
    {
      "cell_type": "markdown",
      "metadata": {
        "id": "hsWbtBR7SCNv"
      },
      "source": [
        "## Cross Validation for Gradient Boosting"
      ]
    },
    {
      "cell_type": "code",
      "execution_count": 65,
      "metadata": {
        "colab": {
          "base_uri": "https://localhost:8080/"
        },
        "id": "-I8QXRQ3SGmO",
        "outputId": "5549e62d-a4ca-4ab5-ec58-b0c9dcfc400e"
      },
      "outputs": [
        {
          "name": "stdout",
          "output_type": "stream",
          "text": [
            "0.8350336122434385\n"
          ]
        }
      ],
      "source": [
        "GradientBoost = GradientBoostingClassifier()\n",
        "print(cross_val_score(GradientBoost, X_train, y_train, cv=10, scoring='accuracy').mean())"
      ]
    },
    {
      "cell_type": "code",
      "execution_count": 66,
      "metadata": {
        "colab": {
          "base_uri": "https://localhost:8080/"
        },
        "id": "GdSgmSFdSGeF",
        "outputId": "4edf0900-cba9-40f6-be9e-f34c40614c2f"
      },
      "outputs": [
        {
          "name": "stdout",
          "output_type": "stream",
          "text": [
            "0.020622878306776424\n"
          ]
        }
      ],
      "source": [
        "GradientBoost = GradientBoostingClassifier()\n",
        "print(cross_val_score(GradientBoost, X_train, y_train, cv=10, scoring='accuracy').std())"
      ]
    },
    {
      "cell_type": "markdown",
      "metadata": {
        "id": "rBE6eqDkwvDE"
      },
      "source": [
        "## XgBoost Classifier (Non Scikit Learn Library)"
      ]
    },
    {
      "cell_type": "markdown",
      "metadata": {
        "id": "CXDhi32a14Ph"
      },
      "source": [
        "XgBoost Classifier adalah suatu model machine learning yang cara kerjanya berdasarkan decision tree model. Model ini cukup outperform dibandingkan kebanyakan model lainnya karena dalam settingan default model ini dapat menghasilkan kemampuan prediksi yang tinggi. Pada penelitian ini saya menetapakn hyper parameter Xgboos verbosity 1 artinya informasi parameter yang digunakan seluruhnya akan ditampilkan. Selain verbosity saya juga melakukan setup eta di angka 0.1, eta sendiri adalah learning rate dan sama sekali tidak ada kaitanya learning rate semakin tinggi kemampuan prediksinya akan semakin baik."
      ]
    },
    {
      "cell_type": "code",
      "execution_count": 67,
      "metadata": {
        "colab": {
          "base_uri": "https://localhost:8080/"
        },
        "id": "BZxDvUvRwr76",
        "outputId": "8d7b65ee-d072-4c8a-9545-d754ee2da77d"
      },
      "outputs": [
        {
          "data": {
            "text/plain": [
              "Pipeline(steps=[('prep',\n",
              "                 ColumnTransformer(transformers=[('num1',\n",
              "                                                  Pipeline(steps=[('scaler',\n",
              "                                                                   MinMaxScaler())]),\n",
              "                                                  ['pay_0', 'pay_2', 'pay_3',\n",
              "                                                   'pay_amt_4', 'pay_amt_5',\n",
              "                                                   'pay_amt_6']),\n",
              "                                                 ('num2',\n",
              "                                                  Pipeline(steps=[('scaler2',\n",
              "                                                                   StandardScaler())]),\n",
              "                                                  ['limit_balance',\n",
              "                                                   'education_level'])])),\n",
              "                ('XGBClassifier',\n",
              "                 XGBClassifier(base_score=0.5, booster='gbtree', callbacks=None,\n",
              "                               colsam...\n",
              "                               gamma=0, gpu_id=-1, grow_policy='depthwise',\n",
              "                               importance_type=None, interaction_constraints='',\n",
              "                               learning_rate=0.300000012, max_bin=256,\n",
              "                               max_cat_to_onehot=4, max_delta_step=0,\n",
              "                               max_depth=6, max_leaves=0, min_child_weight=1,\n",
              "                               missing=nan, monotone_constraints='()',\n",
              "                               n_estimators=100, n_jobs=0, num_parallel_tree=1,\n",
              "                               predictor='auto', random_state=0, reg_alpha=0,\n",
              "                               reg_lambda=1, ...))])"
            ]
          },
          "execution_count": 67,
          "metadata": {},
          "output_type": "execute_result"
        }
      ],
      "source": [
        "pipe = Pipeline([(\"prep\", preprocessor), (\"XGBClassifier\", XGBClassifier())])\n",
        "pipe.fit(X_train,y_train)"
      ]
    },
    {
      "cell_type": "code",
      "execution_count": 68,
      "metadata": {
        "id": "5gf7Jh-Lw9L_"
      },
      "outputs": [],
      "source": [
        "ada_clf_pred = pipe.predict(X_test)\n",
        "ada_clf_pred_train = pipe.predict(X_train)"
      ]
    },
    {
      "cell_type": "code",
      "execution_count": 69,
      "metadata": {
        "colab": {
          "base_uri": "https://localhost:8080/"
        },
        "id": "0nLgDBPOw9AK",
        "outputId": "5a1e4cfb-4bcb-4849-e542-56d4bbf94080"
      },
      "outputs": [
        {
          "name": "stdout",
          "output_type": "stream",
          "text": [
            "0.8037225042301185\n",
            "0.9670050761421319\n"
          ]
        }
      ],
      "source": [
        "print(accuracy_score(y_test,ada_clf_pred))\n",
        "print(accuracy_score(y_train,ada_clf_pred_train))"
      ]
    },
    {
      "cell_type": "markdown",
      "metadata": {
        "id": "8Qpv0BKGSiUn"
      },
      "source": [
        "## Cross Validation XgBoost Classifier"
      ]
    },
    {
      "cell_type": "code",
      "execution_count": 70,
      "metadata": {
        "colab": {
          "base_uri": "https://localhost:8080/"
        },
        "id": "Hmg7KmLNSnhA",
        "outputId": "8c0d0e1e-f61c-4383-daa9-3de7f37c411e"
      },
      "outputs": [
        {
          "name": "stdout",
          "output_type": "stream",
          "text": [
            "0.8168526067367518\n"
          ]
        }
      ],
      "source": [
        "XGboostClass = XGBClassifier()\n",
        "print(cross_val_score(XGboostClass, X_train, y_train, cv=10, scoring='accuracy').mean())"
      ]
    },
    {
      "cell_type": "code",
      "execution_count": 71,
      "metadata": {
        "colab": {
          "base_uri": "https://localhost:8080/"
        },
        "id": "hn_mpofSSnXz",
        "outputId": "635e7b82-aa65-4022-90dc-9ec650073d2e"
      },
      "outputs": [
        {
          "name": "stdout",
          "output_type": "stream",
          "text": [
            "0.015642520542158096\n"
          ]
        }
      ],
      "source": [
        "XGboostClass = XGBClassifier()\n",
        "print(cross_val_score(XGboostClass, X_train, y_train, cv=10, scoring='accuracy').std())"
      ]
    },
    {
      "cell_type": "markdown",
      "metadata": {
        "id": "yw3cNt_3Eo0W"
      },
      "source": [
        "## Random Forest"
      ]
    },
    {
      "cell_type": "markdown",
      "metadata": {},
      "source": [
        "Random Forest adalah algoritma supervised yang biasa digunakan untuk menyelesaikan masalah yang berhubungan dengan klasifikasi, regresi. Algoritma ini berupa kombinasi dari beberapa tree predictors atau bisa disebut decision trees dimana setiap tree bergantung pada nilai random vector yang dijadikan sampel secara bebas dan merata pada semua tree dalam forest tersebut. Model ini memiliki hyperparameter yang bisa disesuaikan seperti ada criterion yang secara default adalah gini, ada ccp alfa yang juga dapa di atur nilainya. Ada hyperparamater yang unik dari random forest ini yaitu min sample leaf dan min sample split, jika kedua hyperparamater tersebut digunakan sebegai untuk dilakukan hyperparameter tuning menggunakan grid search maka setelah grid search di jalankan ulang hasil rekomendasi grid search akan berbeda dari hasil rekomendasi pertama."
      ]
    },
    {
      "cell_type": "code",
      "execution_count": 104,
      "metadata": {
        "colab": {
          "base_uri": "https://localhost:8080/"
        },
        "id": "iQ5FzuK9EkQz",
        "outputId": "c5487916-aa2a-4c6b-d994-1f31fd306392"
      },
      "outputs": [
        {
          "data": {
            "text/plain": [
              "Pipeline(steps=[('prep',\n",
              "                 ColumnTransformer(transformers=[('num1',\n",
              "                                                  Pipeline(steps=[('scaler',\n",
              "                                                                   MinMaxScaler())]),\n",
              "                                                  ['pay_0', 'pay_2', 'pay_3',\n",
              "                                                   'pay_amt_4', 'pay_amt_5',\n",
              "                                                   'pay_amt_6']),\n",
              "                                                 ('num2',\n",
              "                                                  Pipeline(steps=[('scaler2',\n",
              "                                                                   StandardScaler())]),\n",
              "                                                  ['limit_balance',\n",
              "                                                   'education_level'])])),\n",
              "                ('Random Forest Classifier', RandomForestClassifier())])"
            ]
          },
          "execution_count": 104,
          "metadata": {},
          "output_type": "execute_result"
        }
      ],
      "source": [
        "pipe = Pipeline([(\"prep\", preprocessor), (\"Random Forest Classifier\", RandomForestClassifier())])\n",
        "pipe.fit(X_train,y_train)"
      ]
    },
    {
      "cell_type": "code",
      "execution_count": 73,
      "metadata": {
        "id": "nyj4_BfHEwF9"
      },
      "outputs": [],
      "source": [
        "y_train_pred=pipe.predict(X_train)\n",
        "y_test_pred=pipe.predict(X_test)"
      ]
    },
    {
      "cell_type": "code",
      "execution_count": 74,
      "metadata": {
        "colab": {
          "base_uri": "https://localhost:8080/"
        },
        "id": "OC4UoQIKE5c7",
        "outputId": "8e65820b-f3bf-4a7e-959a-bfdd295fb18b"
      },
      "outputs": [
        {
          "name": "stdout",
          "output_type": "stream",
          "text": [
            "accuracy score train :  0.9949238578680203\n",
            "accuracy score test :  0.817258883248731\n"
          ]
        }
      ],
      "source": [
        "print('accuracy score train : ',accuracy_score(y_train,y_train_pred))\n",
        "print('accuracy score test : ',accuracy_score(y_test,y_test_pred))"
      ]
    },
    {
      "cell_type": "markdown",
      "metadata": {
        "id": "_zFBqvVlVIfb"
      },
      "source": [
        "## Cross Validation For Random Forest"
      ]
    },
    {
      "cell_type": "code",
      "execution_count": 105,
      "metadata": {
        "colab": {
          "base_uri": "https://localhost:8080/"
        },
        "id": "IJjh6ZwrVMKM",
        "outputId": "9c316c6f-5c7a-4f05-b13c-63d40fd9ae40"
      },
      "outputs": [
        {
          "name": "stdout",
          "output_type": "stream",
          "text": [
            "0.8240506329113924\n"
          ]
        }
      ],
      "source": [
        "RandForest = RandomForestClassifier()\n",
        "print(cross_val_score(RandForest, X_train, y_train, cv=10, scoring='accuracy').mean())"
      ]
    },
    {
      "cell_type": "code",
      "execution_count": 106,
      "metadata": {
        "colab": {
          "base_uri": "https://localhost:8080/"
        },
        "id": "wdRn_uokmcBc",
        "outputId": "cafbea42-3336-4aac-cc3d-f16689d8b6c8"
      },
      "outputs": [
        {
          "name": "stdout",
          "output_type": "stream",
          "text": [
            "0.032435935000475806\n"
          ]
        }
      ],
      "source": [
        "RandForest = RandomForestClassifier(n_estimators=20,oob_score=False)\n",
        "print(cross_val_score(RandForest, X_train, y_train, cv=10, scoring='accuracy').std())"
      ]
    },
    {
      "cell_type": "markdown",
      "metadata": {
        "id": "-0rkKcjzE7Sc"
      },
      "source": [
        "## Grid Search Implementation for Gradient Boosting"
      ]
    },
    {
      "cell_type": "markdown",
      "metadata": {
        "id": "9baaPPG7Gitz"
      },
      "source": [
        "### Parameter Tuning"
      ]
    },
    {
      "cell_type": "markdown",
      "metadata": {
        "id": "-0ScEd-vGAWj"
      },
      "source": [
        "Pada bagian ini akan dilakukan parameter tuning dengan menggunakan GridSearchCV. Cara kerja GridSearchCV sendiri adalah mencari kombinasi paramater yang paling optimum pada sebuah model yang digunakan dalam hal ini adalah Gradient Boosting Classifier.\n",
        "\n",
        "Setelah dilakukan beberapa pertimbangan dengan melihat angka akurasi train dan test, cross validation mean, dan cross validation standard deviasi saya memilih Gradient Boosting classifier dibandingkan model lain untuk dilakukan paramater tuning dikarenakan angka cross validation gradient boosting termasuk yang paling tinggi dan angka standar deviasinya juga termasuk kecil."
      ]
    },
    {
      "cell_type": "code",
      "execution_count": 77,
      "metadata": {
        "colab": {
          "base_uri": "https://localhost:8080/"
        },
        "id": "xYGaZoVuE_3Z",
        "outputId": "30269464-c7f1-4309-fd1f-4c3dc0206cbe"
      },
      "outputs": [
        {
          "data": {
            "text/plain": [
              "GradientBoostingClassifier(ccp_alpha=0.1, learning_rate=1, loss='exponential',\n",
              "                           n_estimators=30)"
            ]
          },
          "execution_count": 77,
          "metadata": {},
          "output_type": "execute_result"
        }
      ],
      "source": [
        "# Choose the type of classifier. \n",
        "clf = GradientBoostingClassifier()\n",
        "\n",
        "# Choose some parameter combinations to try\n",
        "parameters = {'loss': [\"log_loss\", \"deviance\", \"exponential\"], \n",
        "              'learning_rate': [0.5, 1], \n",
        "              'n_estimators': [30, 50, 100],\n",
        "              'ccp_alpha': [0.1, 0.4, 0.8],\n",
        "              'criterion': [\"friedman_mse\", \"squared_error\", \"mse\"]\n",
        "             }\n",
        "\n",
        "  \n",
        "\n",
        "# Type of scoring used to compare parameter combinations\n",
        "acc_scorer = make_scorer(accuracy_score)\n",
        "\n",
        "# Run the grid search\n",
        "grid_obj = GridSearchCV(clf, parameters, scoring=acc_scorer)\n",
        "grid_obj = grid_obj.fit(X_train, y_train)\n",
        "\n",
        "# Set the clf to the best combination of parameters\n",
        "clf = grid_obj.best_estimator_\n",
        "\n",
        "# Fit the best algorithm to the data. \n",
        "clf.fit(X_train, y_train)"
      ]
    },
    {
      "cell_type": "code",
      "execution_count": 78,
      "metadata": {
        "colab": {
          "base_uri": "https://localhost:8080/"
        },
        "id": "DI_QmXx4WCKy",
        "outputId": "ae8de075-9106-4e6e-a070-0735bd48c9ab"
      },
      "outputs": [
        {
          "data": {
            "text/plain": [
              "dict_keys(['ccp_alpha', 'criterion', 'init', 'learning_rate', 'loss', 'max_depth', 'max_features', 'max_leaf_nodes', 'min_impurity_decrease', 'min_samples_leaf', 'min_samples_split', 'min_weight_fraction_leaf', 'n_estimators', 'n_iter_no_change', 'random_state', 'subsample', 'tol', 'validation_fraction', 'verbose', 'warm_start'])"
            ]
          },
          "execution_count": 78,
          "metadata": {},
          "output_type": "execute_result"
        }
      ],
      "source": [
        "clf.get_params().keys()"
      ]
    },
    {
      "cell_type": "code",
      "execution_count": 79,
      "metadata": {
        "colab": {
          "base_uri": "https://localhost:8080/"
        },
        "id": "q6CUJVEFGnx5",
        "outputId": "08434d9f-425b-4679-a872-c671d24542b5"
      },
      "outputs": [
        {
          "data": {
            "text/plain": [
              "Pipeline(steps=[('prep',\n",
              "                 ColumnTransformer(transformers=[('num1',\n",
              "                                                  Pipeline(steps=[('scaler',\n",
              "                                                                   MinMaxScaler())]),\n",
              "                                                  ['pay_0', 'pay_2', 'pay_3',\n",
              "                                                   'pay_amt_4', 'pay_amt_5',\n",
              "                                                   'pay_amt_6']),\n",
              "                                                 ('num2',\n",
              "                                                  Pipeline(steps=[('scaler2',\n",
              "                                                                   StandardScaler())]),\n",
              "                                                  ['limit_balance',\n",
              "                                                   'education_level'])])),\n",
              "                ('Gradient Boostinng',\n",
              "                 GradientBoostingClassifier(ccp_alpha=0.1, learning_rate=1,\n",
              "                                            loss='exponential',\n",
              "                                            n_estimators=30))])"
            ]
          },
          "execution_count": 79,
          "metadata": {},
          "output_type": "execute_result"
        }
      ],
      "source": [
        "pipe = Pipeline([(\"prep\", preprocessor), (\"Gradient Boostinng\", GradientBoostingClassifier(ccp_alpha=0.1, learning_rate=1, loss='exponential',\n",
        "                           n_estimators=30))])\n",
        "pipe.fit(X_train,y_train)"
      ]
    },
    {
      "cell_type": "code",
      "execution_count": 80,
      "metadata": {
        "id": "CYRUOdl2Go0U"
      },
      "outputs": [],
      "source": [
        "y_train_pred=pipe.predict(X_train)\n",
        "y_test_pred=pipe.predict(X_test)"
      ]
    },
    {
      "cell_type": "code",
      "execution_count": 81,
      "metadata": {
        "colab": {
          "base_uri": "https://localhost:8080/"
        },
        "id": "0XJT2kRDdNvZ",
        "outputId": "d0d658cd-e91b-4fbd-8b44-fd094a2ede4d"
      },
      "outputs": [
        {
          "data": {
            "text/plain": [
              "0.03934010152284262"
            ]
          },
          "execution_count": 81,
          "metadata": {},
          "output_type": "execute_result"
        }
      ],
      "source": [
        "# Gap antara train dan test sebelum dilakukan hyperparamater tuning\n",
        "0.8633671742808798-0.8240270727580372"
      ]
    },
    {
      "cell_type": "code",
      "execution_count": 82,
      "metadata": {
        "colab": {
          "base_uri": "https://localhost:8080/"
        },
        "id": "6bR7FNlidCxY",
        "outputId": "761248ae-3e9f-4595-f57e-6e54d90e16b4"
      },
      "outputs": [
        {
          "data": {
            "text/plain": [
              "0.012690355329949332"
            ]
          },
          "execution_count": 82,
          "metadata": {},
          "output_type": "execute_result"
        }
      ],
      "source": [
        "# Gap antara train dan test setelah dilakukan hyperparamater tuning\n",
        "0.8384094754653131-0.8257191201353637"
      ]
    },
    {
      "cell_type": "code",
      "execution_count": 83,
      "metadata": {
        "colab": {
          "base_uri": "https://localhost:8080/"
        },
        "id": "03oE9lRQGsJV",
        "outputId": "9eaa8145-6d45-4fd4-8921-6820d7043128"
      },
      "outputs": [
        {
          "name": "stdout",
          "output_type": "stream",
          "text": [
            "accuracy score train :  0.8384094754653131\n",
            "accuracy score test :  0.8257191201353637\n"
          ]
        }
      ],
      "source": [
        "print('accuracy score train : ',accuracy_score(y_train,y_train_pred))\n",
        "print('accuracy score test : ',accuracy_score(y_test,y_test_pred))"
      ]
    },
    {
      "cell_type": "markdown",
      "metadata": {
        "id": "dsGHmd9rGvne"
      },
      "source": [
        "Setelah dilakukan parameter tuning hasil akurasi dari model Gradient Boosting masih tetap overfit namun gap nya menurun dari sebelumnya dimana gap nya adalah 0.039 dan setelah dilakukan parameter tuning gap nya turun menjadi 0.012.\n",
        "\n"
      ]
    },
    {
      "cell_type": "markdown",
      "metadata": {},
      "source": [
        "## Cross Validation Gradient Boosting Classifier with Hyperparameter Tuning"
      ]
    },
    {
      "cell_type": "code",
      "execution_count": 84,
      "metadata": {},
      "outputs": [
        {
          "name": "stdout",
          "output_type": "stream",
          "text": [
            "0.838423442751913\n"
          ]
        }
      ],
      "source": [
        "GradientBoostTuning = GradientBoostingClassifier(ccp_alpha=0.1, learning_rate=1, loss='exponential',\n",
        "                           n_estimators=30)\n",
        "print(cross_val_score(GradientBoostTuning, X_train, y_train, cv=10, scoring='accuracy').mean())"
      ]
    },
    {
      "cell_type": "code",
      "execution_count": 85,
      "metadata": {},
      "outputs": [
        {
          "name": "stdout",
          "output_type": "stream",
          "text": [
            "0.017403466885217166\n"
          ]
        }
      ],
      "source": [
        "GradientBoostTuning = GradientBoostingClassifier(ccp_alpha=0.1, learning_rate=1, loss='exponential',\n",
        "                           n_estimators=30)\n",
        "print(cross_val_score(GradientBoostTuning, X_train, y_train, cv=10, scoring='accuracy').std())"
      ]
    },
    {
      "cell_type": "markdown",
      "metadata": {
        "id": "qkiOEU6iG9CC"
      },
      "source": [
        "## Model Inference"
      ]
    },
    {
      "cell_type": "markdown",
      "metadata": {},
      "source": [
        "Model inference digunakan untuk melihat model machine learning yang sudah di bangun berjalan atau tidak, pada model inference ini model machine learning yang digunakan adalah Gradient Boosting Classifier. "
      ]
    },
    {
      "cell_type": "markdown",
      "metadata": {
        "id": "_0rCSqgfHB7C"
      },
      "source": [
        "### Model Inference Logistic Regression"
      ]
    },
    {
      "cell_type": "code",
      "execution_count": 86,
      "metadata": {
        "id": "mq_LlFjCHAtC"
      },
      "outputs": [],
      "source": [
        "X_inf_scaled = data_inf.drop(['default_payment_next_month'], axis = 1)\n",
        "y_inf_scaled = data_inf.default_payment_next_month"
      ]
    },
    {
      "cell_type": "code",
      "execution_count": 87,
      "metadata": {
        "id": "mif11JQDHFGy"
      },
      "outputs": [],
      "source": [
        "numeric_features = [\"pay_0\",\"pay_2\",\"pay_3\",\"pay_amt_4\",\"pay_amt_5\",\"pay_amt_6\"]\n",
        "numeric_features2 = [\"limit_balance\",\"education_level\"]\n",
        "\n",
        "numeric_transformer_mms = Pipeline([(\"scaler\", MinMaxScaler())])\n",
        "\n",
        "numeric_transformer_sc = Pipeline([(\"scaler2\", StandardScaler())])\n",
        "\n",
        "preprocessor = ColumnTransformer(\n",
        "    transformers=[\n",
        "        (\"num1\", numeric_transformer_mms, numeric_features),\n",
        "        (\"num2\", numeric_transformer_sc, numeric_features2),\n",
        "    ]\n",
        ")"
      ]
    },
    {
      "cell_type": "code",
      "execution_count": 96,
      "metadata": {
        "colab": {
          "base_uri": "https://localhost:8080/"
        },
        "id": "unnB99DqHHhH",
        "outputId": "e1aec2bf-3dc5-41e1-a014-3c6062bc1c89"
      },
      "outputs": [
        {
          "data": {
            "text/plain": [
              "Pipeline(steps=[('prep',\n",
              "                 ColumnTransformer(transformers=[('num1',\n",
              "                                                  Pipeline(steps=[('scaler',\n",
              "                                                                   MinMaxScaler())]),\n",
              "                                                  ['pay_0', 'pay_2', 'pay_3',\n",
              "                                                   'pay_amt_4', 'pay_amt_5',\n",
              "                                                   'pay_amt_6']),\n",
              "                                                 ('num2',\n",
              "                                                  Pipeline(steps=[('scaler2',\n",
              "                                                                   StandardScaler())]),\n",
              "                                                  ['limit_balance',\n",
              "                                                   'education_level'])])),\n",
              "                ('Gradient Boostinng',\n",
              "                 GradientBoostingClassifier(ccp_alpha=0.1, learning_rate=1,\n",
              "                                            loss='exponential',\n",
              "                                            n_estimators=30))])"
            ]
          },
          "execution_count": 96,
          "metadata": {},
          "output_type": "execute_result"
        }
      ],
      "source": [
        "pipe = Pipeline([(\"prep\", preprocessor), (\"Gradient Boostinng\", GradientBoostingClassifier(ccp_alpha=0.1, learning_rate=1, loss='exponential',\n",
        "                           n_estimators=30))])\n",
        "pipe.fit(X_train,y_train)"
      ]
    },
    {
      "cell_type": "code",
      "execution_count": 97,
      "metadata": {
        "colab": {
          "base_uri": "https://localhost:8080/",
          "height": 363
        },
        "id": "CHi_aj2RHJo5",
        "outputId": "612d2a13-c627-441c-8dbd-7f89491f9932"
      },
      "outputs": [
        {
          "data": {
            "text/html": [
              "<div>\n",
              "<style scoped>\n",
              "    .dataframe tbody tr th:only-of-type {\n",
              "        vertical-align: middle;\n",
              "    }\n",
              "\n",
              "    .dataframe tbody tr th {\n",
              "        vertical-align: top;\n",
              "    }\n",
              "\n",
              "    .dataframe thead th {\n",
              "        text-align: right;\n",
              "    }\n",
              "</style>\n",
              "<table border=\"1\" class=\"dataframe\">\n",
              "  <thead>\n",
              "    <tr style=\"text-align: right;\">\n",
              "      <th></th>\n",
              "      <th>limit_balance</th>\n",
              "      <th>education_level</th>\n",
              "      <th>pay_0</th>\n",
              "      <th>pay_2</th>\n",
              "      <th>pay_3</th>\n",
              "      <th>pay_amt_4</th>\n",
              "      <th>pay_amt_5</th>\n",
              "      <th>pay_amt_6</th>\n",
              "    </tr>\n",
              "  </thead>\n",
              "  <tbody>\n",
              "    <tr>\n",
              "      <th>0</th>\n",
              "      <td>420000.0</td>\n",
              "      <td>2</td>\n",
              "      <td>0.0</td>\n",
              "      <td>0.0</td>\n",
              "      <td>0.0</td>\n",
              "      <td>5900.0</td>\n",
              "      <td>6000.0</td>\n",
              "      <td>6000.0</td>\n",
              "    </tr>\n",
              "    <tr>\n",
              "      <th>1</th>\n",
              "      <td>30000.0</td>\n",
              "      <td>2</td>\n",
              "      <td>2.0</td>\n",
              "      <td>0.0</td>\n",
              "      <td>0.0</td>\n",
              "      <td>500.0</td>\n",
              "      <td>1500.0</td>\n",
              "      <td>0.0</td>\n",
              "    </tr>\n",
              "    <tr>\n",
              "      <th>2</th>\n",
              "      <td>40000.0</td>\n",
              "      <td>3</td>\n",
              "      <td>0.0</td>\n",
              "      <td>0.0</td>\n",
              "      <td>0.0</td>\n",
              "      <td>6000.0</td>\n",
              "      <td>2000.0</td>\n",
              "      <td>2000.0</td>\n",
              "    </tr>\n",
              "    <tr>\n",
              "      <th>3</th>\n",
              "      <td>70000.0</td>\n",
              "      <td>3</td>\n",
              "      <td>0.0</td>\n",
              "      <td>0.0</td>\n",
              "      <td>-1.0</td>\n",
              "      <td>3150.0</td>\n",
              "      <td>2000.0</td>\n",
              "      <td>4000.0</td>\n",
              "    </tr>\n",
              "    <tr>\n",
              "      <th>4</th>\n",
              "      <td>60000.0</td>\n",
              "      <td>2</td>\n",
              "      <td>-1.0</td>\n",
              "      <td>0.0</td>\n",
              "      <td>-1.0</td>\n",
              "      <td>200.0</td>\n",
              "      <td>1832.0</td>\n",
              "      <td>5889.0</td>\n",
              "    </tr>\n",
              "    <tr>\n",
              "      <th>5</th>\n",
              "      <td>300000.0</td>\n",
              "      <td>1</td>\n",
              "      <td>0.0</td>\n",
              "      <td>0.0</td>\n",
              "      <td>0.0</td>\n",
              "      <td>2500.0</td>\n",
              "      <td>3500.0</td>\n",
              "      <td>87000.0</td>\n",
              "    </tr>\n",
              "    <tr>\n",
              "      <th>6</th>\n",
              "      <td>500000.0</td>\n",
              "      <td>1</td>\n",
              "      <td>0.0</td>\n",
              "      <td>0.0</td>\n",
              "      <td>0.0</td>\n",
              "      <td>0.0</td>\n",
              "      <td>7413.0</td>\n",
              "      <td>0.0</td>\n",
              "    </tr>\n",
              "    <tr>\n",
              "      <th>7</th>\n",
              "      <td>490000.0</td>\n",
              "      <td>2</td>\n",
              "      <td>0.0</td>\n",
              "      <td>0.0</td>\n",
              "      <td>0.0</td>\n",
              "      <td>4.0</td>\n",
              "      <td>64895.0</td>\n",
              "      <td>3003.0</td>\n",
              "    </tr>\n",
              "    <tr>\n",
              "      <th>8</th>\n",
              "      <td>80000.0</td>\n",
              "      <td>1</td>\n",
              "      <td>1.0</td>\n",
              "      <td>2.0</td>\n",
              "      <td>2.0</td>\n",
              "      <td>3000.0</td>\n",
              "      <td>2000.0</td>\n",
              "      <td>1056.0</td>\n",
              "    </tr>\n",
              "    <tr>\n",
              "      <th>9</th>\n",
              "      <td>130000.0</td>\n",
              "      <td>2</td>\n",
              "      <td>2.0</td>\n",
              "      <td>2.0</td>\n",
              "      <td>2.0</td>\n",
              "      <td>2600.0</td>\n",
              "      <td>1000.0</td>\n",
              "      <td>1500.0</td>\n",
              "    </tr>\n",
              "  </tbody>\n",
              "</table>\n",
              "</div>"
            ],
            "text/plain": [
              "   limit_balance  education_level  pay_0  pay_2  pay_3  pay_amt_4  pay_amt_5  \\\n",
              "0       420000.0                2    0.0    0.0    0.0     5900.0     6000.0   \n",
              "1        30000.0                2    2.0    0.0    0.0      500.0     1500.0   \n",
              "2        40000.0                3    0.0    0.0    0.0     6000.0     2000.0   \n",
              "3        70000.0                3    0.0    0.0   -1.0     3150.0     2000.0   \n",
              "4        60000.0                2   -1.0    0.0   -1.0      200.0     1832.0   \n",
              "5       300000.0                1    0.0    0.0    0.0     2500.0     3500.0   \n",
              "6       500000.0                1    0.0    0.0    0.0        0.0     7413.0   \n",
              "7       490000.0                2    0.0    0.0    0.0        4.0    64895.0   \n",
              "8        80000.0                1    1.0    2.0    2.0     3000.0     2000.0   \n",
              "9       130000.0                2    2.0    2.0    2.0     2600.0     1000.0   \n",
              "\n",
              "   pay_amt_6  \n",
              "0     6000.0  \n",
              "1        0.0  \n",
              "2     2000.0  \n",
              "3     4000.0  \n",
              "4     5889.0  \n",
              "5    87000.0  \n",
              "6        0.0  \n",
              "7     3003.0  \n",
              "8     1056.0  \n",
              "9     1500.0  "
            ]
          },
          "execution_count": 97,
          "metadata": {},
          "output_type": "execute_result"
        }
      ],
      "source": [
        "X_inf_scaled"
      ]
    },
    {
      "cell_type": "code",
      "execution_count": 98,
      "metadata": {
        "colab": {
          "base_uri": "https://localhost:8080/"
        },
        "id": "h__HpntTHLk1",
        "outputId": "bf72ae05-1586-4243-9598-6695370c6221"
      },
      "outputs": [
        {
          "data": {
            "text/plain": [
              "0    0\n",
              "1    1\n",
              "2    0\n",
              "3    0\n",
              "4    0\n",
              "5    1\n",
              "6    1\n",
              "7    0\n",
              "8    0\n",
              "9    1\n",
              "Name: default_payment_next_month, dtype: int64"
            ]
          },
          "execution_count": 98,
          "metadata": {},
          "output_type": "execute_result"
        }
      ],
      "source": [
        "y_inf_scaled"
      ]
    },
    {
      "cell_type": "code",
      "execution_count": 99,
      "metadata": {
        "colab": {
          "base_uri": "https://localhost:8080/",
          "height": 206
        },
        "id": "ZGJpFNGbHOSE",
        "outputId": "42c5852d-90bc-478f-87d9-b10a633a45d8"
      },
      "outputs": [
        {
          "data": {
            "text/html": [
              "<div>\n",
              "<style scoped>\n",
              "    .dataframe tbody tr th:only-of-type {\n",
              "        vertical-align: middle;\n",
              "    }\n",
              "\n",
              "    .dataframe tbody tr th {\n",
              "        vertical-align: top;\n",
              "    }\n",
              "\n",
              "    .dataframe thead th {\n",
              "        text-align: right;\n",
              "    }\n",
              "</style>\n",
              "<table border=\"1\" class=\"dataframe\">\n",
              "  <thead>\n",
              "    <tr style=\"text-align: right;\">\n",
              "      <th></th>\n",
              "      <th>limit_balance</th>\n",
              "      <th>education_level</th>\n",
              "      <th>pay_0</th>\n",
              "      <th>pay_2</th>\n",
              "      <th>pay_3</th>\n",
              "      <th>pay_amt_4</th>\n",
              "      <th>pay_amt_5</th>\n",
              "      <th>pay_amt_6</th>\n",
              "      <th>default_payment_next_month</th>\n",
              "    </tr>\n",
              "  </thead>\n",
              "  <tbody>\n",
              "    <tr>\n",
              "      <th>0</th>\n",
              "      <td>420000.0</td>\n",
              "      <td>2</td>\n",
              "      <td>0.0</td>\n",
              "      <td>0.0</td>\n",
              "      <td>0.0</td>\n",
              "      <td>5900.0</td>\n",
              "      <td>6000.0</td>\n",
              "      <td>6000.0</td>\n",
              "      <td>0</td>\n",
              "    </tr>\n",
              "    <tr>\n",
              "      <th>1</th>\n",
              "      <td>30000.0</td>\n",
              "      <td>2</td>\n",
              "      <td>2.0</td>\n",
              "      <td>0.0</td>\n",
              "      <td>0.0</td>\n",
              "      <td>500.0</td>\n",
              "      <td>1500.0</td>\n",
              "      <td>0.0</td>\n",
              "      <td>1</td>\n",
              "    </tr>\n",
              "    <tr>\n",
              "      <th>2</th>\n",
              "      <td>40000.0</td>\n",
              "      <td>3</td>\n",
              "      <td>0.0</td>\n",
              "      <td>0.0</td>\n",
              "      <td>0.0</td>\n",
              "      <td>6000.0</td>\n",
              "      <td>2000.0</td>\n",
              "      <td>2000.0</td>\n",
              "      <td>0</td>\n",
              "    </tr>\n",
              "    <tr>\n",
              "      <th>3</th>\n",
              "      <td>70000.0</td>\n",
              "      <td>3</td>\n",
              "      <td>0.0</td>\n",
              "      <td>0.0</td>\n",
              "      <td>-1.0</td>\n",
              "      <td>3150.0</td>\n",
              "      <td>2000.0</td>\n",
              "      <td>4000.0</td>\n",
              "      <td>0</td>\n",
              "    </tr>\n",
              "    <tr>\n",
              "      <th>4</th>\n",
              "      <td>60000.0</td>\n",
              "      <td>2</td>\n",
              "      <td>-1.0</td>\n",
              "      <td>0.0</td>\n",
              "      <td>-1.0</td>\n",
              "      <td>200.0</td>\n",
              "      <td>1832.0</td>\n",
              "      <td>5889.0</td>\n",
              "      <td>0</td>\n",
              "    </tr>\n",
              "  </tbody>\n",
              "</table>\n",
              "</div>"
            ],
            "text/plain": [
              "   limit_balance  education_level  pay_0  pay_2  pay_3  pay_amt_4  pay_amt_5  \\\n",
              "0       420000.0                2    0.0    0.0    0.0     5900.0     6000.0   \n",
              "1        30000.0                2    2.0    0.0    0.0      500.0     1500.0   \n",
              "2        40000.0                3    0.0    0.0    0.0     6000.0     2000.0   \n",
              "3        70000.0                3    0.0    0.0   -1.0     3150.0     2000.0   \n",
              "4        60000.0                2   -1.0    0.0   -1.0      200.0     1832.0   \n",
              "\n",
              "   pay_amt_6  default_payment_next_month  \n",
              "0     6000.0                           0  \n",
              "1        0.0                           1  \n",
              "2     2000.0                           0  \n",
              "3     4000.0                           0  \n",
              "4     5889.0                           0  "
            ]
          },
          "execution_count": 99,
          "metadata": {},
          "output_type": "execute_result"
        }
      ],
      "source": [
        "df_final_result = pd.concat([X_inf_scaled, y_inf_scaled], axis=1)\n",
        "df_final_result.head(5)"
      ]
    },
    {
      "cell_type": "code",
      "execution_count": 100,
      "metadata": {
        "id": "x9fxemb1HPGF"
      },
      "outputs": [],
      "source": [
        "y_inf_pred = pipe.predict(X_inf_scaled)"
      ]
    },
    {
      "cell_type": "code",
      "execution_count": 101,
      "metadata": {
        "colab": {
          "base_uri": "https://localhost:8080/"
        },
        "id": "YLAsl4DfHTe2",
        "outputId": "9c093981-710e-4697-d2ea-09dac4391154"
      },
      "outputs": [
        {
          "data": {
            "text/plain": [
              "array([0, 1, 0, 0, 0, 0, 0, 0, 0, 1])"
            ]
          },
          "execution_count": 101,
          "metadata": {},
          "output_type": "execute_result"
        }
      ],
      "source": [
        "y_inf_pred"
      ]
    },
    {
      "cell_type": "code",
      "execution_count": 102,
      "metadata": {
        "colab": {
          "base_uri": "https://localhost:8080/",
          "height": 363
        },
        "id": "ofJjf25NHUqm",
        "outputId": "ae18a8d7-71c4-47b2-bdda-279df00151a8"
      },
      "outputs": [
        {
          "data": {
            "text/html": [
              "<div>\n",
              "<style scoped>\n",
              "    .dataframe tbody tr th:only-of-type {\n",
              "        vertical-align: middle;\n",
              "    }\n",
              "\n",
              "    .dataframe tbody tr th {\n",
              "        vertical-align: top;\n",
              "    }\n",
              "\n",
              "    .dataframe thead th {\n",
              "        text-align: right;\n",
              "    }\n",
              "</style>\n",
              "<table border=\"1\" class=\"dataframe\">\n",
              "  <thead>\n",
              "    <tr style=\"text-align: right;\">\n",
              "      <th></th>\n",
              "      <th>default_payment_next_month_pred</th>\n",
              "    </tr>\n",
              "  </thead>\n",
              "  <tbody>\n",
              "    <tr>\n",
              "      <th>0</th>\n",
              "      <td>0</td>\n",
              "    </tr>\n",
              "    <tr>\n",
              "      <th>1</th>\n",
              "      <td>1</td>\n",
              "    </tr>\n",
              "    <tr>\n",
              "      <th>2</th>\n",
              "      <td>0</td>\n",
              "    </tr>\n",
              "    <tr>\n",
              "      <th>3</th>\n",
              "      <td>0</td>\n",
              "    </tr>\n",
              "    <tr>\n",
              "      <th>4</th>\n",
              "      <td>0</td>\n",
              "    </tr>\n",
              "    <tr>\n",
              "      <th>5</th>\n",
              "      <td>0</td>\n",
              "    </tr>\n",
              "    <tr>\n",
              "      <th>6</th>\n",
              "      <td>0</td>\n",
              "    </tr>\n",
              "    <tr>\n",
              "      <th>7</th>\n",
              "      <td>0</td>\n",
              "    </tr>\n",
              "    <tr>\n",
              "      <th>8</th>\n",
              "      <td>0</td>\n",
              "    </tr>\n",
              "    <tr>\n",
              "      <th>9</th>\n",
              "      <td>1</td>\n",
              "    </tr>\n",
              "  </tbody>\n",
              "</table>\n",
              "</div>"
            ],
            "text/plain": [
              "   default_payment_next_month_pred\n",
              "0                                0\n",
              "1                                1\n",
              "2                                0\n",
              "3                                0\n",
              "4                                0\n",
              "5                                0\n",
              "6                                0\n",
              "7                                0\n",
              "8                                0\n",
              "9                                1"
            ]
          },
          "execution_count": 102,
          "metadata": {},
          "output_type": "execute_result"
        }
      ],
      "source": [
        "y_pred_inf_df = pd.DataFrame(y_inf_pred, columns=['default_payment_next_month_pred'])\n",
        "y_pred_inf_df"
      ]
    },
    {
      "cell_type": "code",
      "execution_count": 103,
      "metadata": {
        "colab": {
          "base_uri": "https://localhost:8080/",
          "height": 270
        },
        "id": "j20RQT4JHWBJ",
        "outputId": "e5d6c6fe-e3ae-40ed-8059-9d79d0c0caed"
      },
      "outputs": [
        {
          "data": {
            "text/html": [
              "<div>\n",
              "<style scoped>\n",
              "    .dataframe tbody tr th:only-of-type {\n",
              "        vertical-align: middle;\n",
              "    }\n",
              "\n",
              "    .dataframe tbody tr th {\n",
              "        vertical-align: top;\n",
              "    }\n",
              "\n",
              "    .dataframe thead th {\n",
              "        text-align: right;\n",
              "    }\n",
              "</style>\n",
              "<table border=\"1\" class=\"dataframe\">\n",
              "  <thead>\n",
              "    <tr style=\"text-align: right;\">\n",
              "      <th></th>\n",
              "      <th>limit_balance</th>\n",
              "      <th>education_level</th>\n",
              "      <th>pay_0</th>\n",
              "      <th>pay_2</th>\n",
              "      <th>pay_3</th>\n",
              "      <th>pay_amt_4</th>\n",
              "      <th>pay_amt_5</th>\n",
              "      <th>pay_amt_6</th>\n",
              "      <th>default_payment_next_month</th>\n",
              "      <th>default_payment_next_month_pred</th>\n",
              "    </tr>\n",
              "  </thead>\n",
              "  <tbody>\n",
              "    <tr>\n",
              "      <th>5</th>\n",
              "      <td>300000.0</td>\n",
              "      <td>1</td>\n",
              "      <td>0.0</td>\n",
              "      <td>0.0</td>\n",
              "      <td>0.0</td>\n",
              "      <td>2500.0</td>\n",
              "      <td>3500.0</td>\n",
              "      <td>87000.0</td>\n",
              "      <td>1</td>\n",
              "      <td>0</td>\n",
              "    </tr>\n",
              "    <tr>\n",
              "      <th>6</th>\n",
              "      <td>500000.0</td>\n",
              "      <td>1</td>\n",
              "      <td>0.0</td>\n",
              "      <td>0.0</td>\n",
              "      <td>0.0</td>\n",
              "      <td>0.0</td>\n",
              "      <td>7413.0</td>\n",
              "      <td>0.0</td>\n",
              "      <td>1</td>\n",
              "      <td>0</td>\n",
              "    </tr>\n",
              "    <tr>\n",
              "      <th>7</th>\n",
              "      <td>490000.0</td>\n",
              "      <td>2</td>\n",
              "      <td>0.0</td>\n",
              "      <td>0.0</td>\n",
              "      <td>0.0</td>\n",
              "      <td>4.0</td>\n",
              "      <td>64895.0</td>\n",
              "      <td>3003.0</td>\n",
              "      <td>0</td>\n",
              "      <td>0</td>\n",
              "    </tr>\n",
              "    <tr>\n",
              "      <th>8</th>\n",
              "      <td>80000.0</td>\n",
              "      <td>1</td>\n",
              "      <td>1.0</td>\n",
              "      <td>2.0</td>\n",
              "      <td>2.0</td>\n",
              "      <td>3000.0</td>\n",
              "      <td>2000.0</td>\n",
              "      <td>1056.0</td>\n",
              "      <td>0</td>\n",
              "      <td>0</td>\n",
              "    </tr>\n",
              "    <tr>\n",
              "      <th>9</th>\n",
              "      <td>130000.0</td>\n",
              "      <td>2</td>\n",
              "      <td>2.0</td>\n",
              "      <td>2.0</td>\n",
              "      <td>2.0</td>\n",
              "      <td>2600.0</td>\n",
              "      <td>1000.0</td>\n",
              "      <td>1500.0</td>\n",
              "      <td>1</td>\n",
              "      <td>1</td>\n",
              "    </tr>\n",
              "  </tbody>\n",
              "</table>\n",
              "</div>"
            ],
            "text/plain": [
              "   limit_balance  education_level  pay_0  pay_2  pay_3  pay_amt_4  pay_amt_5  \\\n",
              "5       300000.0                1    0.0    0.0    0.0     2500.0     3500.0   \n",
              "6       500000.0                1    0.0    0.0    0.0        0.0     7413.0   \n",
              "7       490000.0                2    0.0    0.0    0.0        4.0    64895.0   \n",
              "8        80000.0                1    1.0    2.0    2.0     3000.0     2000.0   \n",
              "9       130000.0                2    2.0    2.0    2.0     2600.0     1000.0   \n",
              "\n",
              "   pay_amt_6  default_payment_next_month  default_payment_next_month_pred  \n",
              "5    87000.0                           1                                0  \n",
              "6        0.0                           1                                0  \n",
              "7     3003.0                           0                                0  \n",
              "8     1056.0                           0                                0  \n",
              "9     1500.0                           1                                1  "
            ]
          },
          "execution_count": 103,
          "metadata": {},
          "output_type": "execute_result"
        }
      ],
      "source": [
        "final_result = pd.concat([data_inf, y_pred_inf_df], axis=1)\n",
        "final_result.tail(5)"
      ]
    },
    {
      "cell_type": "markdown",
      "metadata": {
        "id": "ZTxCk6olHZGV"
      },
      "source": [
        "## Conceptual Problems"
      ]
    },
    {
      "cell_type": "markdown",
      "metadata": {
        "id": "A0mPR5B5Hgf3"
      },
      "source": [
        "##### 1 - Apakah fungsi parameter criterion pada Decision Tree? Jelaskan salah satu criterion yang kalian pahami!"
      ]
    },
    {
      "cell_type": "markdown",
      "metadata": {
        "id": "TCgCbuDw_Iqw"
      },
      "source": [
        "Fungsi criterion adalah untuk menentukan bagaimana impurity dari sebuah split di hitung, Secara default nilai gini digunakan untuk mengukur impurity. \n",
        "\n",
        "terdapat tiga criterion pada decision tree model seperti gini, entropy, dan log loss namun pada bagian ini saya hanya akan membahas mengenai gini dan entropy.\n",
        "\n",
        "Hasil dari angka entopy pada node hasil split dari root node nilai maksimumnya adalah 1 sedangkan pada gini imputiry nilai maksimumnya adalah 0,5. Perbedaan ini dikarenakan rumus matematika untuk menghitung entropy pada setiap node berbeda dengan rumus matematika yang di gunakan pada criterion gini impurity. \n",
        "\n",
        "Pada kenyatanya gini impurity dijadikan sebagai parameter criterion pada model decision tree lainnya seperti random forest misalnya. Hal ini dikarenanakan perhitungan matematika untuk memperoleh gini impurity lebih sederhana dibandingkan entropy. "
      ]
    },
    {
      "cell_type": "markdown",
      "metadata": {
        "id": "FRD8OPTKHir6"
      },
      "source": [
        "##### 2 - Apakah fungsi dari pruning pada Tree model?"
      ]
    },
    {
      "cell_type": "markdown",
      "metadata": {
        "id": "4KuKApk__KBO"
      },
      "source": [
        "Pada decision tree model, model bekerja dengan membuat cabang baru untuk memetakan probabilitas. Cabang baru terus membuat cabang baru lainnya dan berhenti ketika nilai gini nya sudah pure. Namun tidak setiap cabang mencapai gini purity dengan jumlah cabang yang sama. Pruning disini berperan memotong cabang gini inpurity nya. Sehingga teknik ini akan mengurangi kecenderungan decision tree model yang hasil prediksinya overfit."
      ]
    },
    {
      "cell_type": "markdown",
      "metadata": {
        "id": "KLNSDGGXHlPh"
      },
      "source": [
        "##### 3 - Bagaimana cara memilih K yang optimal pada KNN?"
      ]
    },
    {
      "cell_type": "markdown",
      "metadata": {
        "id": "1Lqy5ZCP_Mbl"
      },
      "source": [
        "Tidak ada ketentuan resmi dalam penentuan k di model KNN, cara paling mudah dalam menentukan K adalah dengan menguji nya dari range angka tertentu di lihat mana nilai K yang menghasilkan nilai akurasi nya baik maka itu K yang dipilih atau dengan menggunakan grid search atau random search"
      ]
    },
    {
      "cell_type": "markdown",
      "metadata": {
        "id": "r88hupPPHnsL"
      },
      "source": [
        "##### 4 - Jelaskan apa yang kalian ketahui tentang Cross Validation!"
      ]
    },
    {
      "cell_type": "markdown",
      "metadata": {
        "id": "BgdfuQoL_QZh"
      },
      "source": [
        "Cross Validation adalah suatu teknik preserving suatu dataset dimana data set tersebut tidak perlu dilakukan train namun dataset tersebut akan dilakukan evaluasi pada setiap fold nya, secara default fold yang di tetapkan adalah lima. Metode K-Fold yang paling sering digunakan adalah K-Fold Cross Validation dan hasil dari K-Fold Validation itu sendiri adalah rata-rata dari hasil evaluasi di setiap fold nya."
      ]
    },
    {
      "cell_type": "markdown",
      "metadata": {
        "id": "afIeEcE8Ht0e"
      },
      "source": [
        "##### 5 - Jelaskan apa yang kalian ketahui tentang Accuracy, Precision, Recall, F1 Score!"
      ]
    },
    {
      "cell_type": "markdown",
      "metadata": {
        "id": "cL0N49YO_RHG"
      },
      "source": [
        "Penjelasan mengenai accuracy, precision, recall, dan F1 score sebenarnya sangat terkait dengan tempat industri kita berada. Akurasi pada model machine learning di representasikan sebagai kemampuan suatu model dalam melakukan prediksi sehingga yang dipertimbangkan adalah nilai true posritive nya pada tabel confusion matrix. Ilustrasi untuk menggambarkan metric selain akurasi katakan kemampuan model yang di bangun akurasinya adalah 80% dalam memprediksi karyawan intelejen dan sebenarnya angka 80% hanyalah angka yang masuk ke dalam True Positive. Tanpa mempertimbangkan berapa banyak data yang masuk ke dalam kelas yang terprediksi positif padahal secara aktual data tersebut masuk ke dalam kelas negatif tentunya ini akan mengakibatkan kesalahan yang fatal. Misalnya model di jalankan dan memprediksi yang bukan intelejen adalah intelejen maka ini akan membuat penyusup mengambil informasi berharga. Lain halnya jika kesalahan misklasifikasi yang terjadi seperti model memprediksi karyawan tersebut bukan termasuk kelas intelejen namun sebenarnya dia termasuk ke dalam kelas intelejen, kesalahan tersebut konsekuensinnya tidak seburuk dengan kesalahan pertama yang sebelumnya sudah dijelaskan.\n",
        "\n",
        "Berbicara mengenai recall sebenarnya masih terkait dengan pembahasan mengenai akurasi, hanya saja pada recalls jika ada misklasifikasi data yang sebenarnya secara aktual adalah benar namun di masukan ke dalam kelas yang salah oleh model tentu ini akan menjadi masalah. Dalam konteks ini jika misklasifikasi seperti ini terjadi pada bidang kesehatan tentu saja akan menjadi kesalahan fatal dengan adanya data yang secara aktual benar namun masuk ke kelas yang salah. Sebagai gambaranya saya membuat model untuk mengklasifikasi jenis data mana saja yang masuk ke label positif cancer dan negatif cancer. Jike model prediksinya benar dan secara aktual benar maka itu memang yang di inginkan, jika model prediksinya benar namun secara aktual salah perlu dijadikan concern untuk valuasi model. Namun Jika Prediksinya salah namun secara aktual data tersebut benar atau termasuk kriteria yang mengidap cancer tentu saja ini akan menjadi kesalahan fatal. Olehkarenanya melihat angka recall sangat penting dalam konteks ini. F1 score sebenarnya sangat jarang digunakan dalam suatu industri karena F1 adalah representasi dari precision dan recall. Namun tidak ada salahnya untuk mempertimbangkan f1 score sebagai metric valuation untuk melihat kapabilitas suatu model dalam melakukan prediksi. "
      ]
    },
    {
      "cell_type": "markdown",
      "metadata": {},
      "source": [
        "## Conclusion"
      ]
    },
    {
      "cell_type": "markdown",
      "metadata": {},
      "source": [
        "Hasil dari penelitian ini menunjukkan untuk model machine learning non decision tree based model, Logistic Regression dan Support Vector Classifier menjadi model dengan kemampuan prediksi yang cukup baik dengan angka cross validarion masing masing berada di angka 0.793dan 0.784. Sedangkan untuk model machine learning decision tree based model dengan kemampuan prediksi terbaik pada penelitian ini adalah Gradient boosting Classifier dengan cross validation mean berada di angka 0.835 dan cross validation standar deviasinya berada di angka 0.021. dan setelah dilakukan hyperparamaeter tuning angka cross validation mean nya meningkat menjadi 0.838 dengan angka cross validation standar deviasinya yang menurun menjadi di angka 0.017. Hal ini menandakan model Gradient Boosting Classifier menjadi semakain baik kemampuan prediksinya dalam melakukan klasifikasi setelah dilakukan hyperparamater tuning. Sebagai tambahan lain, saya melakukan pruning dengan melakukan inputasi pada ccp alfa untuk hyperparamter tuning pada model Gradient Boosting Classifier dan hasilnya kecenderungan overfit dari model gradient boosting menurun. \n",
        "\n",
        "Berdasarkan beberapa penelitian terdahulu ditemukan bawha semakin tinggi kredit yang diberikan bank maka risiko default nya juga akan semakin tinggi jika debitur dalam hal ini nasabah kartu kredit mengalami gagal bayar atau credit default. Namun setelah dilakukan analisis data menggunakan barplot untuk melihat kelas limit balance mana saja yang mengalami default dan ditemukan bahwa kelas limit balance di atas $ 500.000 credit default rate nya rendah. \n",
        "\n",
        "Saran untuk perbaikan model selanjutnya agar kemampuan prediksinya dapat lebih ditingkatkan adalah data yang digunkan sebaiknya di khususkan untuk debitur atau nasabah yang limit balance nya di bawah 500.000. Alternatif lainnya adalah dengan membuat dua model prediksi pertama model prediksi default dengan menggunakan data limit balance di bawah 500.000 dan model prediksi limit balance dengan menggunakan data limit balance di atas 500.000"
      ]
    },
    {
      "cell_type": "markdown",
      "metadata": {},
      "source": [
        "## References "
      ]
    },
    {
      "cell_type": "markdown",
      "metadata": {},
      "source": [
        "Mathew and Thomson (2008). The Economics of Banking. Page 211"
      ]
    },
    {
      "cell_type": "markdown",
      "metadata": {},
      "source": [
        "Robe,İ and Podpiera, J (2010). IMF Working Paper. The Fundamentals of Credit Default Risk for European Large Complex Financial Institutions."
      ]
    },
    {
      "cell_type": "markdown",
      "metadata": {},
      "source": [
        "https://www.ibm.com/topics/logistic-regression"
      ]
    },
    {
      "cell_type": "markdown",
      "metadata": {},
      "source": [
        "https://www.researchgate.net/publication/337570027_A_BROAD_OVERVIEW_OF_SUB_PRIME_CRISIS_ITS_CAUSES_AND_THE_REPERCUSSIONS"
      ]
    }
  ],
  "metadata": {
    "colab": {
      "collapsed_sections": [],
      "name": "Milestone_one.ipynb",
      "provenance": []
    },
    "kernelspec": {
      "display_name": "Python 3.9.12 ('base')",
      "language": "python",
      "name": "python3"
    },
    "language_info": {
      "codemirror_mode": {
        "name": "ipython",
        "version": 3
      },
      "file_extension": ".py",
      "mimetype": "text/x-python",
      "name": "python",
      "nbconvert_exporter": "python",
      "pygments_lexer": "ipython3",
      "version": "3.9.12"
    },
    "vscode": {
      "interpreter": {
        "hash": "29b762e6ebb16630dc180eb4a7876cc2a2c9b1bf58b2cade60381b48a6cb6e19"
      }
    }
  },
  "nbformat": 4,
  "nbformat_minor": 0
}
